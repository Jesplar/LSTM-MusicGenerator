{
 "cells": [
  {
   "cell_type": "markdown",
   "metadata": {},
   "source": [
    "Script for creating and training the LSTM network models used to generate classical music.\n",
    "\n",
    "Matilda Wikström, matwiks@student.chalmers.se\n",
    "\n",
    "Jesper Larsson, jesplar@student.chalmers.se"
   ]
  },
  {
   "cell_type": "markdown",
   "metadata": {},
   "source": [
    "Links:\n",
    "\n",
    "https://github.com/craffel/pretty-midi\n",
    "\n",
    "https://towardsdatascience.com/generate-piano-instrumental-music-by-using-deep-learning-80ac35cdbd2e\n",
    "\n",
    "\n",
    "\n"
   ]
  },
  {
   "cell_type": "code",
   "execution_count": 130,
   "metadata": {},
   "outputs": [],
   "source": [
    "#Imports\n",
    "import torch\n",
    "import pretty_midi\n",
    "import numpy as np\n",
    "import unicodedata\n",
    "import re\n",
    "import numpy as np\n",
    "from random import shuffle, seed\n",
    "import os\n",
    "import io\n",
    "import time\n",
    "from tqdm import tnrange, tqdm_notebook, tqdm\n",
    "# \"Our code\"\n",
    "import preprocessing as pp\n",
    "#import generatemidi as gm # Broken file, fix\n",
    "import tokenizer as token\n",
    "import generatemidi as gen"
   ]
  },
  {
   "cell_type": "code",
   "execution_count": null,
   "metadata": {},
   "outputs": [],
   "source": [
    "# Using pretty_midi example\n",
    "fs=30\n",
    "dict_note = {}\n",
    "midi_pretty_format = pretty_midi.PrettyMIDI('test.midi')\n",
    "piano_midi = midi_pretty_format.instruments[0] # Get the piano channels\n",
    "piano_roll = piano_midi.get_piano_roll(fs=fs)\n",
    "dict_note[0] = piano_roll\n",
    "\n",
    "print(len(piano_roll[0]))"
   ]
  },
  {
   "cell_type": "code",
   "execution_count": 3,
   "metadata": {},
   "outputs": [
    {
     "name": "stdout",
     "output_type": "stream",
     "text": [
      "/bin/sh: 1: wget: not found\r\n"
     ]
    }
   ],
   "source": [
    "#Download the required data create folder structure\n",
    "#Make sure we are in the correct folder\n",
    "\n",
    "assert (os.path.basename(os.getcwd())=='LSTM-MusicGenerator'), \"Wrong working dir\"\n",
    "\n",
    "#Download the MAESTRO Dataset\n",
    "if not os.path.isfile('./maestro-v1.0.0-midi.zip'):\n",
    "    !wget https://storage.googleapis.com/magentadata/datasets/maestro/v1.0.0/maestro-v1.0.0-midi.zip\n",
    "\n",
    "#Check if we have extracted the files\n",
    "if not os.path.isdir('./maestro-v1.0.0-midi') and not os.path.isfile('./maestro-v1.0.0/LICENSE'):\n",
    "    !unzip maestro-v1.0.0-midi.zip\n"
   ]
  },
  {
   "cell_type": "code",
   "execution_count": 142,
   "metadata": {},
   "outputs": [
    {
     "data": {
      "application/vnd.jupyter.widget-view+json": {
       "model_id": "73515cb43493414ba13202cdb41e7dee",
       "version_major": 2,
       "version_minor": 0
      },
      "text/plain": [
       "HBox(children=(IntProgress(value=0, max=10), HTML(value='')))"
      ]
     },
     "metadata": {},
     "output_type": "display_data"
    },
    {
     "name": "stdout",
     "output_type": "stream",
     "text": [
      "\n"
     ]
    }
   ],
   "source": [
    "# Preprocessing\n",
    "nbr_of_songs = 10 #100\n",
    "list_all_midi = pp.get_list_midi() # \n",
    "sampled_200_midi = list_all_midi[0:nbr_of_songs]\n",
    "batch = 1\n",
    "start_index = 0\n",
    "note_tokenizer = token.NoteTokenizer()\n",
    "import pretty_midi\n",
    "\n",
    "for i in tqdm_notebook(range(len(sampled_200_midi))):\n",
    "    dict_time_notes = token.generate_dict_time_notes(sampled_200_midi, batch_song=1, start_index=i, use_tqdm=False, fs=5)\n",
    "    full_notes = token.process_notes_in_song(dict_time_notes)\n",
    "    for note in full_notes:\n",
    "        note_tokenizer.partial_fit(list(note.values()))\n",
    "note_tokenizer.add_new_note('e') # Add empty notes\n",
    "\n"
   ]
  },
  {
   "cell_type": "code",
   "execution_count": 224,
   "metadata": {},
   "outputs": [],
   "source": [
    "# ---- define model\n",
    "import torch.nn as nn\n",
    "import torch.nn.functional as F\n",
    "   \n",
    "input_size = 50\n",
    "hidden_size = 100\n",
    "num_layers = 2\n",
    "is_bidirectional = True\n",
    "dropout_rate = 0.2\n",
    "batch_size = 1 #96 ### Should be 2085\n",
    "\n",
    "seq_len = 50\n",
    "unique_notes = note_tokenizer.unique_word #Used in our output layer to map\n",
    "\n",
    "\n",
    "\n",
    "if is_bidirectional:\n",
    "    num_directions = 2\n",
    "else:\n",
    "    num_directions = 1\n",
    "\n",
    "\n",
    "class our_LSTM(torch.nn.Module):\n",
    "    def __init__(self, h0, c0):\n",
    "        super().__init__()\n",
    "        self.hn = h0\n",
    "        self.cn = c0\n",
    "        \n",
    "        self.lstm = torch.nn.LSTM(input_size, hidden_size, num_layers, dropout=dropout_rate, bidirectional=is_bidirectional)\n",
    "        self.fc = torch.nn.Linear(num_directions * hidden_size, unique_notes)\n",
    "        self.softmax = torch.nn.Softmax(dim=-1)\n",
    "        \n",
    "    def forward(self, inp, use_softmax = False):\n",
    "        out, (self.hn, self.cn) = self.lstm(inp, (self.hn, self.cn))\n",
    "        out = self.fc(out)\n",
    "        if use_softmax:\n",
    "            out = self.softmax(out)\n",
    "        out = out.permute(0,2,1)\n",
    "        out = out.view(-1,unique_notes)\n",
    "        \n",
    "        return out, self.hn, self.cn\n",
    "    \n"
   ]
  },
  {
   "cell_type": "code",
   "execution_count": 200,
   "metadata": {
    "scrolled": false
   },
   "outputs": [
    {
     "data": {
      "application/javascript": [
       "/* Put everything inside the global mpl namespace */\n",
       "window.mpl = {};\n",
       "\n",
       "\n",
       "mpl.get_websocket_type = function() {\n",
       "    if (typeof(WebSocket) !== 'undefined') {\n",
       "        return WebSocket;\n",
       "    } else if (typeof(MozWebSocket) !== 'undefined') {\n",
       "        return MozWebSocket;\n",
       "    } else {\n",
       "        alert('Your browser does not have WebSocket support. ' +\n",
       "              'Please try Chrome, Safari or Firefox ≥ 6. ' +\n",
       "              'Firefox 4 and 5 are also supported but you ' +\n",
       "              'have to enable WebSockets in about:config.');\n",
       "    };\n",
       "}\n",
       "\n",
       "mpl.figure = function(figure_id, websocket, ondownload, parent_element) {\n",
       "    this.id = figure_id;\n",
       "\n",
       "    this.ws = websocket;\n",
       "\n",
       "    this.supports_binary = (this.ws.binaryType != undefined);\n",
       "\n",
       "    if (!this.supports_binary) {\n",
       "        var warnings = document.getElementById(\"mpl-warnings\");\n",
       "        if (warnings) {\n",
       "            warnings.style.display = 'block';\n",
       "            warnings.textContent = (\n",
       "                \"This browser does not support binary websocket messages. \" +\n",
       "                    \"Performance may be slow.\");\n",
       "        }\n",
       "    }\n",
       "\n",
       "    this.imageObj = new Image();\n",
       "\n",
       "    this.context = undefined;\n",
       "    this.message = undefined;\n",
       "    this.canvas = undefined;\n",
       "    this.rubberband_canvas = undefined;\n",
       "    this.rubberband_context = undefined;\n",
       "    this.format_dropdown = undefined;\n",
       "\n",
       "    this.image_mode = 'full';\n",
       "\n",
       "    this.root = $('<div/>');\n",
       "    this._root_extra_style(this.root)\n",
       "    this.root.attr('style', 'display: inline-block');\n",
       "\n",
       "    $(parent_element).append(this.root);\n",
       "\n",
       "    this._init_header(this);\n",
       "    this._init_canvas(this);\n",
       "    this._init_toolbar(this);\n",
       "\n",
       "    var fig = this;\n",
       "\n",
       "    this.waiting = false;\n",
       "\n",
       "    this.ws.onopen =  function () {\n",
       "            fig.send_message(\"supports_binary\", {value: fig.supports_binary});\n",
       "            fig.send_message(\"send_image_mode\", {});\n",
       "            if (mpl.ratio != 1) {\n",
       "                fig.send_message(\"set_dpi_ratio\", {'dpi_ratio': mpl.ratio});\n",
       "            }\n",
       "            fig.send_message(\"refresh\", {});\n",
       "        }\n",
       "\n",
       "    this.imageObj.onload = function() {\n",
       "            if (fig.image_mode == 'full') {\n",
       "                // Full images could contain transparency (where diff images\n",
       "                // almost always do), so we need to clear the canvas so that\n",
       "                // there is no ghosting.\n",
       "                fig.context.clearRect(0, 0, fig.canvas.width, fig.canvas.height);\n",
       "            }\n",
       "            fig.context.drawImage(fig.imageObj, 0, 0);\n",
       "        };\n",
       "\n",
       "    this.imageObj.onunload = function() {\n",
       "        fig.ws.close();\n",
       "    }\n",
       "\n",
       "    this.ws.onmessage = this._make_on_message_function(this);\n",
       "\n",
       "    this.ondownload = ondownload;\n",
       "}\n",
       "\n",
       "mpl.figure.prototype._init_header = function() {\n",
       "    var titlebar = $(\n",
       "        '<div class=\"ui-dialog-titlebar ui-widget-header ui-corner-all ' +\n",
       "        'ui-helper-clearfix\"/>');\n",
       "    var titletext = $(\n",
       "        '<div class=\"ui-dialog-title\" style=\"width: 100%; ' +\n",
       "        'text-align: center; padding: 3px;\"/>');\n",
       "    titlebar.append(titletext)\n",
       "    this.root.append(titlebar);\n",
       "    this.header = titletext[0];\n",
       "}\n",
       "\n",
       "\n",
       "\n",
       "mpl.figure.prototype._canvas_extra_style = function(canvas_div) {\n",
       "\n",
       "}\n",
       "\n",
       "\n",
       "mpl.figure.prototype._root_extra_style = function(canvas_div) {\n",
       "\n",
       "}\n",
       "\n",
       "mpl.figure.prototype._init_canvas = function() {\n",
       "    var fig = this;\n",
       "\n",
       "    var canvas_div = $('<div/>');\n",
       "\n",
       "    canvas_div.attr('style', 'position: relative; clear: both; outline: 0');\n",
       "\n",
       "    function canvas_keyboard_event(event) {\n",
       "        return fig.key_event(event, event['data']);\n",
       "    }\n",
       "\n",
       "    canvas_div.keydown('key_press', canvas_keyboard_event);\n",
       "    canvas_div.keyup('key_release', canvas_keyboard_event);\n",
       "    this.canvas_div = canvas_div\n",
       "    this._canvas_extra_style(canvas_div)\n",
       "    this.root.append(canvas_div);\n",
       "\n",
       "    var canvas = $('<canvas/>');\n",
       "    canvas.addClass('mpl-canvas');\n",
       "    canvas.attr('style', \"left: 0; top: 0; z-index: 0; outline: 0\")\n",
       "\n",
       "    this.canvas = canvas[0];\n",
       "    this.context = canvas[0].getContext(\"2d\");\n",
       "\n",
       "    var backingStore = this.context.backingStorePixelRatio ||\n",
       "\tthis.context.webkitBackingStorePixelRatio ||\n",
       "\tthis.context.mozBackingStorePixelRatio ||\n",
       "\tthis.context.msBackingStorePixelRatio ||\n",
       "\tthis.context.oBackingStorePixelRatio ||\n",
       "\tthis.context.backingStorePixelRatio || 1;\n",
       "\n",
       "    mpl.ratio = (window.devicePixelRatio || 1) / backingStore;\n",
       "\n",
       "    var rubberband = $('<canvas/>');\n",
       "    rubberband.attr('style', \"position: absolute; left: 0; top: 0; z-index: 1;\")\n",
       "\n",
       "    var pass_mouse_events = true;\n",
       "\n",
       "    canvas_div.resizable({\n",
       "        start: function(event, ui) {\n",
       "            pass_mouse_events = false;\n",
       "        },\n",
       "        resize: function(event, ui) {\n",
       "            fig.request_resize(ui.size.width, ui.size.height);\n",
       "        },\n",
       "        stop: function(event, ui) {\n",
       "            pass_mouse_events = true;\n",
       "            fig.request_resize(ui.size.width, ui.size.height);\n",
       "        },\n",
       "    });\n",
       "\n",
       "    function mouse_event_fn(event) {\n",
       "        if (pass_mouse_events)\n",
       "            return fig.mouse_event(event, event['data']);\n",
       "    }\n",
       "\n",
       "    rubberband.mousedown('button_press', mouse_event_fn);\n",
       "    rubberband.mouseup('button_release', mouse_event_fn);\n",
       "    // Throttle sequential mouse events to 1 every 20ms.\n",
       "    rubberband.mousemove('motion_notify', mouse_event_fn);\n",
       "\n",
       "    rubberband.mouseenter('figure_enter', mouse_event_fn);\n",
       "    rubberband.mouseleave('figure_leave', mouse_event_fn);\n",
       "\n",
       "    canvas_div.on(\"wheel\", function (event) {\n",
       "        event = event.originalEvent;\n",
       "        event['data'] = 'scroll'\n",
       "        if (event.deltaY < 0) {\n",
       "            event.step = 1;\n",
       "        } else {\n",
       "            event.step = -1;\n",
       "        }\n",
       "        mouse_event_fn(event);\n",
       "    });\n",
       "\n",
       "    canvas_div.append(canvas);\n",
       "    canvas_div.append(rubberband);\n",
       "\n",
       "    this.rubberband = rubberband;\n",
       "    this.rubberband_canvas = rubberband[0];\n",
       "    this.rubberband_context = rubberband[0].getContext(\"2d\");\n",
       "    this.rubberband_context.strokeStyle = \"#000000\";\n",
       "\n",
       "    this._resize_canvas = function(width, height) {\n",
       "        // Keep the size of the canvas, canvas container, and rubber band\n",
       "        // canvas in synch.\n",
       "        canvas_div.css('width', width)\n",
       "        canvas_div.css('height', height)\n",
       "\n",
       "        canvas.attr('width', width * mpl.ratio);\n",
       "        canvas.attr('height', height * mpl.ratio);\n",
       "        canvas.attr('style', 'width: ' + width + 'px; height: ' + height + 'px;');\n",
       "\n",
       "        rubberband.attr('width', width);\n",
       "        rubberband.attr('height', height);\n",
       "    }\n",
       "\n",
       "    // Set the figure to an initial 600x600px, this will subsequently be updated\n",
       "    // upon first draw.\n",
       "    this._resize_canvas(600, 600);\n",
       "\n",
       "    // Disable right mouse context menu.\n",
       "    $(this.rubberband_canvas).bind(\"contextmenu\",function(e){\n",
       "        return false;\n",
       "    });\n",
       "\n",
       "    function set_focus () {\n",
       "        canvas.focus();\n",
       "        canvas_div.focus();\n",
       "    }\n",
       "\n",
       "    window.setTimeout(set_focus, 100);\n",
       "}\n",
       "\n",
       "mpl.figure.prototype._init_toolbar = function() {\n",
       "    var fig = this;\n",
       "\n",
       "    var nav_element = $('<div/>');\n",
       "    nav_element.attr('style', 'width: 100%');\n",
       "    this.root.append(nav_element);\n",
       "\n",
       "    // Define a callback function for later on.\n",
       "    function toolbar_event(event) {\n",
       "        return fig.toolbar_button_onclick(event['data']);\n",
       "    }\n",
       "    function toolbar_mouse_event(event) {\n",
       "        return fig.toolbar_button_onmouseover(event['data']);\n",
       "    }\n",
       "\n",
       "    for(var toolbar_ind in mpl.toolbar_items) {\n",
       "        var name = mpl.toolbar_items[toolbar_ind][0];\n",
       "        var tooltip = mpl.toolbar_items[toolbar_ind][1];\n",
       "        var image = mpl.toolbar_items[toolbar_ind][2];\n",
       "        var method_name = mpl.toolbar_items[toolbar_ind][3];\n",
       "\n",
       "        if (!name) {\n",
       "            // put a spacer in here.\n",
       "            continue;\n",
       "        }\n",
       "        var button = $('<button/>');\n",
       "        button.addClass('ui-button ui-widget ui-state-default ui-corner-all ' +\n",
       "                        'ui-button-icon-only');\n",
       "        button.attr('role', 'button');\n",
       "        button.attr('aria-disabled', 'false');\n",
       "        button.click(method_name, toolbar_event);\n",
       "        button.mouseover(tooltip, toolbar_mouse_event);\n",
       "\n",
       "        var icon_img = $('<span/>');\n",
       "        icon_img.addClass('ui-button-icon-primary ui-icon');\n",
       "        icon_img.addClass(image);\n",
       "        icon_img.addClass('ui-corner-all');\n",
       "\n",
       "        var tooltip_span = $('<span/>');\n",
       "        tooltip_span.addClass('ui-button-text');\n",
       "        tooltip_span.html(tooltip);\n",
       "\n",
       "        button.append(icon_img);\n",
       "        button.append(tooltip_span);\n",
       "\n",
       "        nav_element.append(button);\n",
       "    }\n",
       "\n",
       "    var fmt_picker_span = $('<span/>');\n",
       "\n",
       "    var fmt_picker = $('<select/>');\n",
       "    fmt_picker.addClass('mpl-toolbar-option ui-widget ui-widget-content');\n",
       "    fmt_picker_span.append(fmt_picker);\n",
       "    nav_element.append(fmt_picker_span);\n",
       "    this.format_dropdown = fmt_picker[0];\n",
       "\n",
       "    for (var ind in mpl.extensions) {\n",
       "        var fmt = mpl.extensions[ind];\n",
       "        var option = $(\n",
       "            '<option/>', {selected: fmt === mpl.default_extension}).html(fmt);\n",
       "        fmt_picker.append(option);\n",
       "    }\n",
       "\n",
       "    // Add hover states to the ui-buttons\n",
       "    $( \".ui-button\" ).hover(\n",
       "        function() { $(this).addClass(\"ui-state-hover\");},\n",
       "        function() { $(this).removeClass(\"ui-state-hover\");}\n",
       "    );\n",
       "\n",
       "    var status_bar = $('<span class=\"mpl-message\"/>');\n",
       "    nav_element.append(status_bar);\n",
       "    this.message = status_bar[0];\n",
       "}\n",
       "\n",
       "mpl.figure.prototype.request_resize = function(x_pixels, y_pixels) {\n",
       "    // Request matplotlib to resize the figure. Matplotlib will then trigger a resize in the client,\n",
       "    // which will in turn request a refresh of the image.\n",
       "    this.send_message('resize', {'width': x_pixels, 'height': y_pixels});\n",
       "}\n",
       "\n",
       "mpl.figure.prototype.send_message = function(type, properties) {\n",
       "    properties['type'] = type;\n",
       "    properties['figure_id'] = this.id;\n",
       "    this.ws.send(JSON.stringify(properties));\n",
       "}\n",
       "\n",
       "mpl.figure.prototype.send_draw_message = function() {\n",
       "    if (!this.waiting) {\n",
       "        this.waiting = true;\n",
       "        this.ws.send(JSON.stringify({type: \"draw\", figure_id: this.id}));\n",
       "    }\n",
       "}\n",
       "\n",
       "\n",
       "mpl.figure.prototype.handle_save = function(fig, msg) {\n",
       "    var format_dropdown = fig.format_dropdown;\n",
       "    var format = format_dropdown.options[format_dropdown.selectedIndex].value;\n",
       "    fig.ondownload(fig, format);\n",
       "}\n",
       "\n",
       "\n",
       "mpl.figure.prototype.handle_resize = function(fig, msg) {\n",
       "    var size = msg['size'];\n",
       "    if (size[0] != fig.canvas.width || size[1] != fig.canvas.height) {\n",
       "        fig._resize_canvas(size[0], size[1]);\n",
       "        fig.send_message(\"refresh\", {});\n",
       "    };\n",
       "}\n",
       "\n",
       "mpl.figure.prototype.handle_rubberband = function(fig, msg) {\n",
       "    var x0 = msg['x0'] / mpl.ratio;\n",
       "    var y0 = (fig.canvas.height - msg['y0']) / mpl.ratio;\n",
       "    var x1 = msg['x1'] / mpl.ratio;\n",
       "    var y1 = (fig.canvas.height - msg['y1']) / mpl.ratio;\n",
       "    x0 = Math.floor(x0) + 0.5;\n",
       "    y0 = Math.floor(y0) + 0.5;\n",
       "    x1 = Math.floor(x1) + 0.5;\n",
       "    y1 = Math.floor(y1) + 0.5;\n",
       "    var min_x = Math.min(x0, x1);\n",
       "    var min_y = Math.min(y0, y1);\n",
       "    var width = Math.abs(x1 - x0);\n",
       "    var height = Math.abs(y1 - y0);\n",
       "\n",
       "    fig.rubberband_context.clearRect(\n",
       "        0, 0, fig.canvas.width / mpl.ratio, fig.canvas.height / mpl.ratio);\n",
       "\n",
       "    fig.rubberband_context.strokeRect(min_x, min_y, width, height);\n",
       "}\n",
       "\n",
       "mpl.figure.prototype.handle_figure_label = function(fig, msg) {\n",
       "    // Updates the figure title.\n",
       "    fig.header.textContent = msg['label'];\n",
       "}\n",
       "\n",
       "mpl.figure.prototype.handle_cursor = function(fig, msg) {\n",
       "    var cursor = msg['cursor'];\n",
       "    switch(cursor)\n",
       "    {\n",
       "    case 0:\n",
       "        cursor = 'pointer';\n",
       "        break;\n",
       "    case 1:\n",
       "        cursor = 'default';\n",
       "        break;\n",
       "    case 2:\n",
       "        cursor = 'crosshair';\n",
       "        break;\n",
       "    case 3:\n",
       "        cursor = 'move';\n",
       "        break;\n",
       "    }\n",
       "    fig.rubberband_canvas.style.cursor = cursor;\n",
       "}\n",
       "\n",
       "mpl.figure.prototype.handle_message = function(fig, msg) {\n",
       "    fig.message.textContent = msg['message'];\n",
       "}\n",
       "\n",
       "mpl.figure.prototype.handle_draw = function(fig, msg) {\n",
       "    // Request the server to send over a new figure.\n",
       "    fig.send_draw_message();\n",
       "}\n",
       "\n",
       "mpl.figure.prototype.handle_image_mode = function(fig, msg) {\n",
       "    fig.image_mode = msg['mode'];\n",
       "}\n",
       "\n",
       "mpl.figure.prototype.updated_canvas_event = function() {\n",
       "    // Called whenever the canvas gets updated.\n",
       "    this.send_message(\"ack\", {});\n",
       "}\n",
       "\n",
       "// A function to construct a web socket function for onmessage handling.\n",
       "// Called in the figure constructor.\n",
       "mpl.figure.prototype._make_on_message_function = function(fig) {\n",
       "    return function socket_on_message(evt) {\n",
       "        if (evt.data instanceof Blob) {\n",
       "            /* FIXME: We get \"Resource interpreted as Image but\n",
       "             * transferred with MIME type text/plain:\" errors on\n",
       "             * Chrome.  But how to set the MIME type?  It doesn't seem\n",
       "             * to be part of the websocket stream */\n",
       "            evt.data.type = \"image/png\";\n",
       "\n",
       "            /* Free the memory for the previous frames */\n",
       "            if (fig.imageObj.src) {\n",
       "                (window.URL || window.webkitURL).revokeObjectURL(\n",
       "                    fig.imageObj.src);\n",
       "            }\n",
       "\n",
       "            fig.imageObj.src = (window.URL || window.webkitURL).createObjectURL(\n",
       "                evt.data);\n",
       "            fig.updated_canvas_event();\n",
       "            fig.waiting = false;\n",
       "            return;\n",
       "        }\n",
       "        else if (typeof evt.data === 'string' && evt.data.slice(0, 21) == \"data:image/png;base64\") {\n",
       "            fig.imageObj.src = evt.data;\n",
       "            fig.updated_canvas_event();\n",
       "            fig.waiting = false;\n",
       "            return;\n",
       "        }\n",
       "\n",
       "        var msg = JSON.parse(evt.data);\n",
       "        var msg_type = msg['type'];\n",
       "\n",
       "        // Call the  \"handle_{type}\" callback, which takes\n",
       "        // the figure and JSON message as its only arguments.\n",
       "        try {\n",
       "            var callback = fig[\"handle_\" + msg_type];\n",
       "        } catch (e) {\n",
       "            console.log(\"No handler for the '\" + msg_type + \"' message type: \", msg);\n",
       "            return;\n",
       "        }\n",
       "\n",
       "        if (callback) {\n",
       "            try {\n",
       "                // console.log(\"Handling '\" + msg_type + \"' message: \", msg);\n",
       "                callback(fig, msg);\n",
       "            } catch (e) {\n",
       "                console.log(\"Exception inside the 'handler_\" + msg_type + \"' callback:\", e, e.stack, msg);\n",
       "            }\n",
       "        }\n",
       "    };\n",
       "}\n",
       "\n",
       "// from http://stackoverflow.com/questions/1114465/getting-mouse-location-in-canvas\n",
       "mpl.findpos = function(e) {\n",
       "    //this section is from http://www.quirksmode.org/js/events_properties.html\n",
       "    var targ;\n",
       "    if (!e)\n",
       "        e = window.event;\n",
       "    if (e.target)\n",
       "        targ = e.target;\n",
       "    else if (e.srcElement)\n",
       "        targ = e.srcElement;\n",
       "    if (targ.nodeType == 3) // defeat Safari bug\n",
       "        targ = targ.parentNode;\n",
       "\n",
       "    // jQuery normalizes the pageX and pageY\n",
       "    // pageX,Y are the mouse positions relative to the document\n",
       "    // offset() returns the position of the element relative to the document\n",
       "    var x = e.pageX - $(targ).offset().left;\n",
       "    var y = e.pageY - $(targ).offset().top;\n",
       "\n",
       "    return {\"x\": x, \"y\": y};\n",
       "};\n",
       "\n",
       "/*\n",
       " * return a copy of an object with only non-object keys\n",
       " * we need this to avoid circular references\n",
       " * http://stackoverflow.com/a/24161582/3208463\n",
       " */\n",
       "function simpleKeys (original) {\n",
       "  return Object.keys(original).reduce(function (obj, key) {\n",
       "    if (typeof original[key] !== 'object')\n",
       "        obj[key] = original[key]\n",
       "    return obj;\n",
       "  }, {});\n",
       "}\n",
       "\n",
       "mpl.figure.prototype.mouse_event = function(event, name) {\n",
       "    var canvas_pos = mpl.findpos(event)\n",
       "\n",
       "    if (name === 'button_press')\n",
       "    {\n",
       "        this.canvas.focus();\n",
       "        this.canvas_div.focus();\n",
       "    }\n",
       "\n",
       "    var x = canvas_pos.x * mpl.ratio;\n",
       "    var y = canvas_pos.y * mpl.ratio;\n",
       "\n",
       "    this.send_message(name, {x: x, y: y, button: event.button,\n",
       "                             step: event.step,\n",
       "                             guiEvent: simpleKeys(event)});\n",
       "\n",
       "    /* This prevents the web browser from automatically changing to\n",
       "     * the text insertion cursor when the button is pressed.  We want\n",
       "     * to control all of the cursor setting manually through the\n",
       "     * 'cursor' event from matplotlib */\n",
       "    event.preventDefault();\n",
       "    return false;\n",
       "}\n",
       "\n",
       "mpl.figure.prototype._key_event_extra = function(event, name) {\n",
       "    // Handle any extra behaviour associated with a key event\n",
       "}\n",
       "\n",
       "mpl.figure.prototype.key_event = function(event, name) {\n",
       "\n",
       "    // Prevent repeat events\n",
       "    if (name == 'key_press')\n",
       "    {\n",
       "        if (event.which === this._key)\n",
       "            return;\n",
       "        else\n",
       "            this._key = event.which;\n",
       "    }\n",
       "    if (name == 'key_release')\n",
       "        this._key = null;\n",
       "\n",
       "    var value = '';\n",
       "    if (event.ctrlKey && event.which != 17)\n",
       "        value += \"ctrl+\";\n",
       "    if (event.altKey && event.which != 18)\n",
       "        value += \"alt+\";\n",
       "    if (event.shiftKey && event.which != 16)\n",
       "        value += \"shift+\";\n",
       "\n",
       "    value += 'k';\n",
       "    value += event.which.toString();\n",
       "\n",
       "    this._key_event_extra(event, name);\n",
       "\n",
       "    this.send_message(name, {key: value,\n",
       "                             guiEvent: simpleKeys(event)});\n",
       "    return false;\n",
       "}\n",
       "\n",
       "mpl.figure.prototype.toolbar_button_onclick = function(name) {\n",
       "    if (name == 'download') {\n",
       "        this.handle_save(this, null);\n",
       "    } else {\n",
       "        this.send_message(\"toolbar_button\", {name: name});\n",
       "    }\n",
       "};\n",
       "\n",
       "mpl.figure.prototype.toolbar_button_onmouseover = function(tooltip) {\n",
       "    this.message.textContent = tooltip;\n",
       "};\n",
       "mpl.toolbar_items = [[\"Home\", \"Reset original view\", \"fa fa-home icon-home\", \"home\"], [\"Back\", \"Back to previous view\", \"fa fa-arrow-left icon-arrow-left\", \"back\"], [\"Forward\", \"Forward to next view\", \"fa fa-arrow-right icon-arrow-right\", \"forward\"], [\"\", \"\", \"\", \"\"], [\"Pan\", \"Pan axes with left mouse, zoom with right\", \"fa fa-arrows icon-move\", \"pan\"], [\"Zoom\", \"Zoom to rectangle\", \"fa fa-square-o icon-check-empty\", \"zoom\"], [\"\", \"\", \"\", \"\"], [\"Download\", \"Download plot\", \"fa fa-floppy-o icon-save\", \"download\"]];\n",
       "\n",
       "mpl.extensions = [\"eps\", \"jpeg\", \"pdf\", \"png\", \"ps\", \"raw\", \"svg\", \"tif\"];\n",
       "\n",
       "mpl.default_extension = \"png\";var comm_websocket_adapter = function(comm) {\n",
       "    // Create a \"websocket\"-like object which calls the given IPython comm\n",
       "    // object with the appropriate methods. Currently this is a non binary\n",
       "    // socket, so there is still some room for performance tuning.\n",
       "    var ws = {};\n",
       "\n",
       "    ws.close = function() {\n",
       "        comm.close()\n",
       "    };\n",
       "    ws.send = function(m) {\n",
       "        //console.log('sending', m);\n",
       "        comm.send(m);\n",
       "    };\n",
       "    // Register the callback with on_msg.\n",
       "    comm.on_msg(function(msg) {\n",
       "        //console.log('receiving', msg['content']['data'], msg);\n",
       "        // Pass the mpl event to the overridden (by mpl) onmessage function.\n",
       "        ws.onmessage(msg['content']['data'])\n",
       "    });\n",
       "    return ws;\n",
       "}\n",
       "\n",
       "mpl.mpl_figure_comm = function(comm, msg) {\n",
       "    // This is the function which gets called when the mpl process\n",
       "    // starts-up an IPython Comm through the \"matplotlib\" channel.\n",
       "\n",
       "    var id = msg.content.data.id;\n",
       "    // Get hold of the div created by the display call when the Comm\n",
       "    // socket was opened in Python.\n",
       "    var element = $(\"#\" + id);\n",
       "    var ws_proxy = comm_websocket_adapter(comm)\n",
       "\n",
       "    function ondownload(figure, format) {\n",
       "        window.open(figure.imageObj.src);\n",
       "    }\n",
       "\n",
       "    var fig = new mpl.figure(id, ws_proxy,\n",
       "                           ondownload,\n",
       "                           element.get(0));\n",
       "\n",
       "    // Call onopen now - mpl needs it, as it is assuming we've passed it a real\n",
       "    // web socket which is closed, not our websocket->open comm proxy.\n",
       "    ws_proxy.onopen();\n",
       "\n",
       "    fig.parent_element = element.get(0);\n",
       "    fig.cell_info = mpl.find_output_cell(\"<div id='\" + id + \"'></div>\");\n",
       "    if (!fig.cell_info) {\n",
       "        console.error(\"Failed to find cell for figure\", id, fig);\n",
       "        return;\n",
       "    }\n",
       "\n",
       "    var output_index = fig.cell_info[2]\n",
       "    var cell = fig.cell_info[0];\n",
       "\n",
       "};\n",
       "\n",
       "mpl.figure.prototype.handle_close = function(fig, msg) {\n",
       "    var width = fig.canvas.width/mpl.ratio\n",
       "    fig.root.unbind('remove')\n",
       "\n",
       "    // Update the output cell to use the data from the current canvas.\n",
       "    fig.push_to_output();\n",
       "    var dataURL = fig.canvas.toDataURL();\n",
       "    // Re-enable the keyboard manager in IPython - without this line, in FF,\n",
       "    // the notebook keyboard shortcuts fail.\n",
       "    IPython.keyboard_manager.enable()\n",
       "    $(fig.parent_element).html('<img src=\"' + dataURL + '\" width=\"' + width + '\">');\n",
       "    fig.close_ws(fig, msg);\n",
       "}\n",
       "\n",
       "mpl.figure.prototype.close_ws = function(fig, msg){\n",
       "    fig.send_message('closing', msg);\n",
       "    // fig.ws.close()\n",
       "}\n",
       "\n",
       "mpl.figure.prototype.push_to_output = function(remove_interactive) {\n",
       "    // Turn the data on the canvas into data in the output cell.\n",
       "    var width = this.canvas.width/mpl.ratio\n",
       "    var dataURL = this.canvas.toDataURL();\n",
       "    this.cell_info[1]['text/html'] = '<img src=\"' + dataURL + '\" width=\"' + width + '\">';\n",
       "}\n",
       "\n",
       "mpl.figure.prototype.updated_canvas_event = function() {\n",
       "    // Tell IPython that the notebook contents must change.\n",
       "    IPython.notebook.set_dirty(true);\n",
       "    this.send_message(\"ack\", {});\n",
       "    var fig = this;\n",
       "    // Wait a second, then push the new image to the DOM so\n",
       "    // that it is saved nicely (might be nice to debounce this).\n",
       "    setTimeout(function () { fig.push_to_output() }, 1000);\n",
       "}\n",
       "\n",
       "mpl.figure.prototype._init_toolbar = function() {\n",
       "    var fig = this;\n",
       "\n",
       "    var nav_element = $('<div/>');\n",
       "    nav_element.attr('style', 'width: 100%');\n",
       "    this.root.append(nav_element);\n",
       "\n",
       "    // Define a callback function for later on.\n",
       "    function toolbar_event(event) {\n",
       "        return fig.toolbar_button_onclick(event['data']);\n",
       "    }\n",
       "    function toolbar_mouse_event(event) {\n",
       "        return fig.toolbar_button_onmouseover(event['data']);\n",
       "    }\n",
       "\n",
       "    for(var toolbar_ind in mpl.toolbar_items){\n",
       "        var name = mpl.toolbar_items[toolbar_ind][0];\n",
       "        var tooltip = mpl.toolbar_items[toolbar_ind][1];\n",
       "        var image = mpl.toolbar_items[toolbar_ind][2];\n",
       "        var method_name = mpl.toolbar_items[toolbar_ind][3];\n",
       "\n",
       "        if (!name) { continue; };\n",
       "\n",
       "        var button = $('<button class=\"btn btn-default\" href=\"#\" title=\"' + name + '\"><i class=\"fa ' + image + ' fa-lg\"></i></button>');\n",
       "        button.click(method_name, toolbar_event);\n",
       "        button.mouseover(tooltip, toolbar_mouse_event);\n",
       "        nav_element.append(button);\n",
       "    }\n",
       "\n",
       "    // Add the status bar.\n",
       "    var status_bar = $('<span class=\"mpl-message\" style=\"text-align:right; float: right;\"/>');\n",
       "    nav_element.append(status_bar);\n",
       "    this.message = status_bar[0];\n",
       "\n",
       "    // Add the close button to the window.\n",
       "    var buttongrp = $('<div class=\"btn-group inline pull-right\"></div>');\n",
       "    var button = $('<button class=\"btn btn-mini btn-primary\" href=\"#\" title=\"Stop Interaction\"><i class=\"fa fa-power-off icon-remove icon-large\"></i></button>');\n",
       "    button.click(function (evt) { fig.handle_close(fig, {}); } );\n",
       "    button.mouseover('Stop Interaction', toolbar_mouse_event);\n",
       "    buttongrp.append(button);\n",
       "    var titlebar = this.root.find($('.ui-dialog-titlebar'));\n",
       "    titlebar.prepend(buttongrp);\n",
       "}\n",
       "\n",
       "mpl.figure.prototype._root_extra_style = function(el){\n",
       "    var fig = this\n",
       "    el.on(\"remove\", function(){\n",
       "\tfig.close_ws(fig, {});\n",
       "    });\n",
       "}\n",
       "\n",
       "mpl.figure.prototype._canvas_extra_style = function(el){\n",
       "    // this is important to make the div 'focusable\n",
       "    el.attr('tabindex', 0)\n",
       "    // reach out to IPython and tell the keyboard manager to turn it's self\n",
       "    // off when our div gets focus\n",
       "\n",
       "    // location in version 3\n",
       "    if (IPython.notebook.keyboard_manager) {\n",
       "        IPython.notebook.keyboard_manager.register_events(el);\n",
       "    }\n",
       "    else {\n",
       "        // location in version 2\n",
       "        IPython.keyboard_manager.register_events(el);\n",
       "    }\n",
       "\n",
       "}\n",
       "\n",
       "mpl.figure.prototype._key_event_extra = function(event, name) {\n",
       "    var manager = IPython.notebook.keyboard_manager;\n",
       "    if (!manager)\n",
       "        manager = IPython.keyboard_manager;\n",
       "\n",
       "    // Check for shift+enter\n",
       "    if (event.shiftKey && event.which == 13) {\n",
       "        this.canvas_div.blur();\n",
       "        event.shiftKey = false;\n",
       "        // Send a \"J\" for go to next cell\n",
       "        event.which = 74;\n",
       "        event.keyCode = 74;\n",
       "        manager.command_mode();\n",
       "        manager.handle_keydown(event);\n",
       "    }\n",
       "}\n",
       "\n",
       "mpl.figure.prototype.handle_save = function(fig, msg) {\n",
       "    fig.ondownload(fig, null);\n",
       "}\n",
       "\n",
       "\n",
       "mpl.find_output_cell = function(html_output) {\n",
       "    // Return the cell and output element which can be found *uniquely* in the notebook.\n",
       "    // Note - this is a bit hacky, but it is done because the \"notebook_saving.Notebook\"\n",
       "    // IPython event is triggered only after the cells have been serialised, which for\n",
       "    // our purposes (turning an active figure into a static one), is too late.\n",
       "    var cells = IPython.notebook.get_cells();\n",
       "    var ncells = cells.length;\n",
       "    for (var i=0; i<ncells; i++) {\n",
       "        var cell = cells[i];\n",
       "        if (cell.cell_type === 'code'){\n",
       "            for (var j=0; j<cell.output_area.outputs.length; j++) {\n",
       "                var data = cell.output_area.outputs[j];\n",
       "                if (data.data) {\n",
       "                    // IPython >= 3 moved mimebundle to data attribute of output\n",
       "                    data = data.data;\n",
       "                }\n",
       "                if (data['text/html'] == html_output) {\n",
       "                    return [cell, data, j];\n",
       "                }\n",
       "            }\n",
       "        }\n",
       "    }\n",
       "}\n",
       "\n",
       "// Register the function which deals with the matplotlib target/channel.\n",
       "// The kernel may be null if the page has been refreshed.\n",
       "if (IPython.notebook.kernel != null) {\n",
       "    IPython.notebook.kernel.comm_manager.register_target('matplotlib', mpl.mpl_figure_comm);\n",
       "}\n"
      ],
      "text/plain": [
       "<IPython.core.display.Javascript object>"
      ]
     },
     "metadata": {},
     "output_type": "display_data"
    },
    {
     "data": {
      "text/html": [
       "<img src=\"data:image/png;base64,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\" width=\"640\">"
      ],
      "text/plain": [
       "<IPython.core.display.HTML object>"
      ]
     },
     "metadata": {},
     "output_type": "display_data"
    },
    {
     "data": {
      "application/vnd.jupyter.widget-view+json": {
       "model_id": "0d386fe1648f4b2ca4afc3866534a167",
       "version_major": 2,
       "version_minor": 0
      },
      "text/plain": [
       "HBox(children=(IntProgress(value=0, description='epoch', max=187, style=ProgressStyle(description_width='initi…"
      ]
     },
     "metadata": {},
     "output_type": "display_data"
    },
    {
     "data": {
      "application/vnd.jupyter.widget-view+json": {
       "model_id": "d0ccef59c3114e49bc8d78c29875e862",
       "version_major": 2,
       "version_minor": 0
      },
      "text/plain": [
       "HBox(children=(IntProgress(value=0, description='completed songs in epoch 14', max=10, style=ProgressStyle(des…"
      ]
     },
     "metadata": {},
     "output_type": "display_data"
    },
    {
     "name": "stdout",
     "output_type": "stream",
     "text": [
      "\n"
     ]
    },
    {
     "data": {
      "application/vnd.jupyter.widget-view+json": {
       "model_id": "73f6c82872a1489b90cac8fdae618302",
       "version_major": 2,
       "version_minor": 0
      },
      "text/plain": [
       "HBox(children=(IntProgress(value=0, description='completed songs in epoch 15', max=10, style=ProgressStyle(des…"
      ]
     },
     "metadata": {},
     "output_type": "display_data"
    },
    {
     "name": "stdout",
     "output_type": "stream",
     "text": [
      "\n"
     ]
    },
    {
     "data": {
      "application/vnd.jupyter.widget-view+json": {
       "model_id": "c681ea9927864e7badd35ee842b2f819",
       "version_major": 2,
       "version_minor": 0
      },
      "text/plain": [
       "HBox(children=(IntProgress(value=0, description='completed songs in epoch 16', max=10, style=ProgressStyle(des…"
      ]
     },
     "metadata": {},
     "output_type": "display_data"
    },
    {
     "name": "stdout",
     "output_type": "stream",
     "text": [
      "\n"
     ]
    },
    {
     "data": {
      "application/vnd.jupyter.widget-view+json": {
       "model_id": "693783b047b341c4b7646c53b83e1cd1",
       "version_major": 2,
       "version_minor": 0
      },
      "text/plain": [
       "HBox(children=(IntProgress(value=0, description='completed songs in epoch 17', max=10, style=ProgressStyle(des…"
      ]
     },
     "metadata": {},
     "output_type": "display_data"
    },
    {
     "name": "stdout",
     "output_type": "stream",
     "text": [
      "\n"
     ]
    },
    {
     "data": {
      "application/vnd.jupyter.widget-view+json": {
       "model_id": "18d0e63477d74a3ca0428ceb69b5b406",
       "version_major": 2,
       "version_minor": 0
      },
      "text/plain": [
       "HBox(children=(IntProgress(value=0, description='completed songs in epoch 18', max=10, style=ProgressStyle(des…"
      ]
     },
     "metadata": {},
     "output_type": "display_data"
    },
    {
     "name": "stdout",
     "output_type": "stream",
     "text": [
      "\n"
     ]
    },
    {
     "data": {
      "application/vnd.jupyter.widget-view+json": {
       "model_id": "4bd79f125db0413c88f410788bf47679",
       "version_major": 2,
       "version_minor": 0
      },
      "text/plain": [
       "HBox(children=(IntProgress(value=0, description='completed songs in epoch 19', max=10, style=ProgressStyle(des…"
      ]
     },
     "metadata": {},
     "output_type": "display_data"
    },
    {
     "name": "stdout",
     "output_type": "stream",
     "text": [
      "\n"
     ]
    },
    {
     "data": {
      "application/vnd.jupyter.widget-view+json": {
       "model_id": "9fac7949c1d844278d117e9605a1e99c",
       "version_major": 2,
       "version_minor": 0
      },
      "text/plain": [
       "HBox(children=(IntProgress(value=0, description='completed songs in epoch 20', max=10, style=ProgressStyle(des…"
      ]
     },
     "metadata": {},
     "output_type": "display_data"
    },
    {
     "name": "stdout",
     "output_type": "stream",
     "text": [
      "\n"
     ]
    },
    {
     "data": {
      "application/vnd.jupyter.widget-view+json": {
       "model_id": "f5144d760f0c47a8820521044c40473f",
       "version_major": 2,
       "version_minor": 0
      },
      "text/plain": [
       "HBox(children=(IntProgress(value=0, description='completed songs in epoch 21', max=10, style=ProgressStyle(des…"
      ]
     },
     "metadata": {},
     "output_type": "display_data"
    },
    {
     "name": "stdout",
     "output_type": "stream",
     "text": [
      "\n"
     ]
    },
    {
     "data": {
      "application/vnd.jupyter.widget-view+json": {
       "model_id": "09f66929d1564c64b16f47d299280849",
       "version_major": 2,
       "version_minor": 0
      },
      "text/plain": [
       "HBox(children=(IntProgress(value=0, description='completed songs in epoch 22', max=10, style=ProgressStyle(des…"
      ]
     },
     "metadata": {},
     "output_type": "display_data"
    },
    {
     "name": "stdout",
     "output_type": "stream",
     "text": [
      "\n"
     ]
    },
    {
     "data": {
      "application/vnd.jupyter.widget-view+json": {
       "model_id": "9f0f7020c8c54d63a116d9d55962e190",
       "version_major": 2,
       "version_minor": 0
      },
      "text/plain": [
       "HBox(children=(IntProgress(value=0, description='completed songs in epoch 23', max=10, style=ProgressStyle(des…"
      ]
     },
     "metadata": {},
     "output_type": "display_data"
    },
    {
     "name": "stdout",
     "output_type": "stream",
     "text": [
      "\n"
     ]
    },
    {
     "data": {
      "application/vnd.jupyter.widget-view+json": {
       "model_id": "a7b7f661c5f64011a4d2ad62d75d6877",
       "version_major": 2,
       "version_minor": 0
      },
      "text/plain": [
       "HBox(children=(IntProgress(value=0, description='completed songs in epoch 24', max=10, style=ProgressStyle(des…"
      ]
     },
     "metadata": {},
     "output_type": "display_data"
    },
    {
     "name": "stdout",
     "output_type": "stream",
     "text": [
      "\n"
     ]
    },
    {
     "data": {
      "application/vnd.jupyter.widget-view+json": {
       "model_id": "15f15c23d3514555a5364773b4e2333f",
       "version_major": 2,
       "version_minor": 0
      },
      "text/plain": [
       "HBox(children=(IntProgress(value=0, description='completed songs in epoch 25', max=10, style=ProgressStyle(des…"
      ]
     },
     "metadata": {},
     "output_type": "display_data"
    },
    {
     "name": "stdout",
     "output_type": "stream",
     "text": [
      "\n"
     ]
    },
    {
     "data": {
      "application/vnd.jupyter.widget-view+json": {
       "model_id": "18d57e31f6fe4082ac02c6fcb9674518",
       "version_major": 2,
       "version_minor": 0
      },
      "text/plain": [
       "HBox(children=(IntProgress(value=0, description='completed songs in epoch 26', max=10, style=ProgressStyle(des…"
      ]
     },
     "metadata": {},
     "output_type": "display_data"
    },
    {
     "name": "stdout",
     "output_type": "stream",
     "text": [
      "\n"
     ]
    },
    {
     "data": {
      "application/vnd.jupyter.widget-view+json": {
       "model_id": "dc49f15bb7ce4eb89d9513524a6ebf61",
       "version_major": 2,
       "version_minor": 0
      },
      "text/plain": [
       "HBox(children=(IntProgress(value=0, description='completed songs in epoch 27', max=10, style=ProgressStyle(des…"
      ]
     },
     "metadata": {},
     "output_type": "display_data"
    },
    {
     "name": "stdout",
     "output_type": "stream",
     "text": [
      "\n"
     ]
    },
    {
     "data": {
      "application/vnd.jupyter.widget-view+json": {
       "model_id": "7f5222ba7d22461c81f7736bd9d2a80c",
       "version_major": 2,
       "version_minor": 0
      },
      "text/plain": [
       "HBox(children=(IntProgress(value=0, description='completed songs in epoch 28', max=10, style=ProgressStyle(des…"
      ]
     },
     "metadata": {},
     "output_type": "display_data"
    },
    {
     "name": "stdout",
     "output_type": "stream",
     "text": [
      "\n"
     ]
    },
    {
     "data": {
      "application/vnd.jupyter.widget-view+json": {
       "model_id": "4310c6832f6e4373b485bec769f9d971",
       "version_major": 2,
       "version_minor": 0
      },
      "text/plain": [
       "HBox(children=(IntProgress(value=0, description='completed songs in epoch 29', max=10, style=ProgressStyle(des…"
      ]
     },
     "metadata": {},
     "output_type": "display_data"
    },
    {
     "name": "stdout",
     "output_type": "stream",
     "text": [
      "\n"
     ]
    },
    {
     "data": {
      "application/vnd.jupyter.widget-view+json": {
       "model_id": "5d658b46a5ab46aaa24be2d86a4005b1",
       "version_major": 2,
       "version_minor": 0
      },
      "text/plain": [
       "HBox(children=(IntProgress(value=0, description='completed songs in epoch 30', max=10, style=ProgressStyle(des…"
      ]
     },
     "metadata": {},
     "output_type": "display_data"
    },
    {
     "name": "stdout",
     "output_type": "stream",
     "text": [
      "\n"
     ]
    },
    {
     "data": {
      "application/vnd.jupyter.widget-view+json": {
       "model_id": "6aba8e3d6ed14744ba2faad7205f3103",
       "version_major": 2,
       "version_minor": 0
      },
      "text/plain": [
       "HBox(children=(IntProgress(value=0, description='completed songs in epoch 31', max=10, style=ProgressStyle(des…"
      ]
     },
     "metadata": {},
     "output_type": "display_data"
    },
    {
     "name": "stdout",
     "output_type": "stream",
     "text": [
      "\n"
     ]
    },
    {
     "data": {
      "application/vnd.jupyter.widget-view+json": {
       "model_id": "9a75230998ac418d961505cdca734782",
       "version_major": 2,
       "version_minor": 0
      },
      "text/plain": [
       "HBox(children=(IntProgress(value=0, description='completed songs in epoch 32', max=10, style=ProgressStyle(des…"
      ]
     },
     "metadata": {},
     "output_type": "display_data"
    },
    {
     "name": "stdout",
     "output_type": "stream",
     "text": [
      "\n"
     ]
    },
    {
     "data": {
      "application/vnd.jupyter.widget-view+json": {
       "model_id": "331ff7068af34012aa33cfc0f0b248f9",
       "version_major": 2,
       "version_minor": 0
      },
      "text/plain": [
       "HBox(children=(IntProgress(value=0, description='completed songs in epoch 33', max=10, style=ProgressStyle(des…"
      ]
     },
     "metadata": {},
     "output_type": "display_data"
    },
    {
     "name": "stdout",
     "output_type": "stream",
     "text": [
      "\n"
     ]
    },
    {
     "data": {
      "application/vnd.jupyter.widget-view+json": {
       "model_id": "b9d9f6a3b84144fca2cc4c0ab8dfc36e",
       "version_major": 2,
       "version_minor": 0
      },
      "text/plain": [
       "HBox(children=(IntProgress(value=0, description='completed songs in epoch 34', max=10, style=ProgressStyle(des…"
      ]
     },
     "metadata": {},
     "output_type": "display_data"
    },
    {
     "name": "stdout",
     "output_type": "stream",
     "text": [
      "\n"
     ]
    },
    {
     "data": {
      "application/vnd.jupyter.widget-view+json": {
       "model_id": "d5b401e2109848ba8c272b10d1a36699",
       "version_major": 2,
       "version_minor": 0
      },
      "text/plain": [
       "HBox(children=(IntProgress(value=0, description='completed songs in epoch 35', max=10, style=ProgressStyle(des…"
      ]
     },
     "metadata": {},
     "output_type": "display_data"
    },
    {
     "name": "stdout",
     "output_type": "stream",
     "text": [
      "\n"
     ]
    },
    {
     "data": {
      "application/vnd.jupyter.widget-view+json": {
       "model_id": "259556f19e62473e9b56813afd306444",
       "version_major": 2,
       "version_minor": 0
      },
      "text/plain": [
       "HBox(children=(IntProgress(value=0, description='completed songs in epoch 36', max=10, style=ProgressStyle(des…"
      ]
     },
     "metadata": {},
     "output_type": "display_data"
    },
    {
     "name": "stdout",
     "output_type": "stream",
     "text": [
      "\n"
     ]
    },
    {
     "data": {
      "application/vnd.jupyter.widget-view+json": {
       "model_id": "427c809d53884c8d847e22f0c4f3d8d5",
       "version_major": 2,
       "version_minor": 0
      },
      "text/plain": [
       "HBox(children=(IntProgress(value=0, description='completed songs in epoch 37', max=10, style=ProgressStyle(des…"
      ]
     },
     "metadata": {},
     "output_type": "display_data"
    },
    {
     "name": "stdout",
     "output_type": "stream",
     "text": [
      "\n"
     ]
    },
    {
     "data": {
      "application/vnd.jupyter.widget-view+json": {
       "model_id": "eab5f8103ac843db98e13004bb075fd9",
       "version_major": 2,
       "version_minor": 0
      },
      "text/plain": [
       "HBox(children=(IntProgress(value=0, description='completed songs in epoch 38', max=10, style=ProgressStyle(des…"
      ]
     },
     "metadata": {},
     "output_type": "display_data"
    },
    {
     "name": "stdout",
     "output_type": "stream",
     "text": [
      "\n"
     ]
    },
    {
     "data": {
      "application/vnd.jupyter.widget-view+json": {
       "model_id": "e16b65d0dd0c4e5fa42e6cb7c6da3092",
       "version_major": 2,
       "version_minor": 0
      },
      "text/plain": [
       "HBox(children=(IntProgress(value=0, description='completed songs in epoch 39', max=10, style=ProgressStyle(des…"
      ]
     },
     "metadata": {},
     "output_type": "display_data"
    },
    {
     "name": "stdout",
     "output_type": "stream",
     "text": [
      "\n"
     ]
    },
    {
     "data": {
      "application/vnd.jupyter.widget-view+json": {
       "model_id": "55a373345a2d4f95ab3434f0bad794f4",
       "version_major": 2,
       "version_minor": 0
      },
      "text/plain": [
       "HBox(children=(IntProgress(value=0, description='completed songs in epoch 40', max=10, style=ProgressStyle(des…"
      ]
     },
     "metadata": {},
     "output_type": "display_data"
    },
    {
     "name": "stdout",
     "output_type": "stream",
     "text": [
      "\n"
     ]
    },
    {
     "data": {
      "application/vnd.jupyter.widget-view+json": {
       "model_id": "54d8ce9a79f144869eb61c5dedd6edfb",
       "version_major": 2,
       "version_minor": 0
      },
      "text/plain": [
       "HBox(children=(IntProgress(value=0, description='completed songs in epoch 41', max=10, style=ProgressStyle(des…"
      ]
     },
     "metadata": {},
     "output_type": "display_data"
    },
    {
     "name": "stdout",
     "output_type": "stream",
     "text": [
      "\n"
     ]
    },
    {
     "data": {
      "application/vnd.jupyter.widget-view+json": {
       "model_id": "fa628355261f4814877bf2cf5c749bf6",
       "version_major": 2,
       "version_minor": 0
      },
      "text/plain": [
       "HBox(children=(IntProgress(value=0, description='completed songs in epoch 42', max=10, style=ProgressStyle(des…"
      ]
     },
     "metadata": {},
     "output_type": "display_data"
    },
    {
     "name": "stdout",
     "output_type": "stream",
     "text": [
      "\n"
     ]
    },
    {
     "data": {
      "application/vnd.jupyter.widget-view+json": {
       "model_id": "022b9bebb57d477e8d5fcdb5f995dcd6",
       "version_major": 2,
       "version_minor": 0
      },
      "text/plain": [
       "HBox(children=(IntProgress(value=0, description='completed songs in epoch 43', max=10, style=ProgressStyle(des…"
      ]
     },
     "metadata": {},
     "output_type": "display_data"
    },
    {
     "name": "stdout",
     "output_type": "stream",
     "text": [
      "\n"
     ]
    },
    {
     "data": {
      "application/vnd.jupyter.widget-view+json": {
       "model_id": "b2e570079224468887e28d678db4107a",
       "version_major": 2,
       "version_minor": 0
      },
      "text/plain": [
       "HBox(children=(IntProgress(value=0, description='completed songs in epoch 44', max=10, style=ProgressStyle(des…"
      ]
     },
     "metadata": {},
     "output_type": "display_data"
    },
    {
     "name": "stdout",
     "output_type": "stream",
     "text": [
      "\n"
     ]
    },
    {
     "data": {
      "application/vnd.jupyter.widget-view+json": {
       "model_id": "c26e383e6b27495fa78f0fe90e324736",
       "version_major": 2,
       "version_minor": 0
      },
      "text/plain": [
       "HBox(children=(IntProgress(value=0, description='completed songs in epoch 45', max=10, style=ProgressStyle(des…"
      ]
     },
     "metadata": {},
     "output_type": "display_data"
    },
    {
     "name": "stdout",
     "output_type": "stream",
     "text": [
      "\n"
     ]
    },
    {
     "data": {
      "application/vnd.jupyter.widget-view+json": {
       "model_id": "fdc43add20604f05a672c2f5a81acabe",
       "version_major": 2,
       "version_minor": 0
      },
      "text/plain": [
       "HBox(children=(IntProgress(value=0, description='completed songs in epoch 46', max=10, style=ProgressStyle(des…"
      ]
     },
     "metadata": {},
     "output_type": "display_data"
    },
    {
     "name": "stdout",
     "output_type": "stream",
     "text": [
      "\n"
     ]
    },
    {
     "data": {
      "application/vnd.jupyter.widget-view+json": {
       "model_id": "39119859975a4fa9a21391e38b035f60",
       "version_major": 2,
       "version_minor": 0
      },
      "text/plain": [
       "HBox(children=(IntProgress(value=0, description='completed songs in epoch 47', max=10, style=ProgressStyle(des…"
      ]
     },
     "metadata": {},
     "output_type": "display_data"
    },
    {
     "name": "stdout",
     "output_type": "stream",
     "text": [
      "\n"
     ]
    },
    {
     "data": {
      "application/vnd.jupyter.widget-view+json": {
       "model_id": "a1e2bfe624de431297df6315c436ffb2",
       "version_major": 2,
       "version_minor": 0
      },
      "text/plain": [
       "HBox(children=(IntProgress(value=0, description='completed songs in epoch 48', max=10, style=ProgressStyle(des…"
      ]
     },
     "metadata": {},
     "output_type": "display_data"
    },
    {
     "name": "stdout",
     "output_type": "stream",
     "text": [
      "\n"
     ]
    },
    {
     "data": {
      "application/vnd.jupyter.widget-view+json": {
       "model_id": "55b967e742c54933a5702e63345ed8f4",
       "version_major": 2,
       "version_minor": 0
      },
      "text/plain": [
       "HBox(children=(IntProgress(value=0, description='completed songs in epoch 49', max=10, style=ProgressStyle(des…"
      ]
     },
     "metadata": {},
     "output_type": "display_data"
    },
    {
     "name": "stdout",
     "output_type": "stream",
     "text": [
      "\n"
     ]
    },
    {
     "data": {
      "application/vnd.jupyter.widget-view+json": {
       "model_id": "239c00525be1477cac80986bb2504788",
       "version_major": 2,
       "version_minor": 0
      },
      "text/plain": [
       "HBox(children=(IntProgress(value=0, description='completed songs in epoch 50', max=10, style=ProgressStyle(des…"
      ]
     },
     "metadata": {},
     "output_type": "display_data"
    },
    {
     "name": "stdout",
     "output_type": "stream",
     "text": [
      "\n"
     ]
    },
    {
     "data": {
      "application/vnd.jupyter.widget-view+json": {
       "model_id": "615a8149ee294a699c30fc4254e67b85",
       "version_major": 2,
       "version_minor": 0
      },
      "text/plain": [
       "HBox(children=(IntProgress(value=0, description='completed songs in epoch 51', max=10, style=ProgressStyle(des…"
      ]
     },
     "metadata": {},
     "output_type": "display_data"
    },
    {
     "name": "stdout",
     "output_type": "stream",
     "text": [
      "\n"
     ]
    },
    {
     "data": {
      "application/vnd.jupyter.widget-view+json": {
       "model_id": "699c9c64f4bd4674afef38aac10450e2",
       "version_major": 2,
       "version_minor": 0
      },
      "text/plain": [
       "HBox(children=(IntProgress(value=0, description='completed songs in epoch 52', max=10, style=ProgressStyle(des…"
      ]
     },
     "metadata": {},
     "output_type": "display_data"
    },
    {
     "name": "stdout",
     "output_type": "stream",
     "text": [
      "\n"
     ]
    },
    {
     "data": {
      "application/vnd.jupyter.widget-view+json": {
       "model_id": "197d4c9ffd61477e9025c3736bdd0264",
       "version_major": 2,
       "version_minor": 0
      },
      "text/plain": [
       "HBox(children=(IntProgress(value=0, description='completed songs in epoch 53', max=10, style=ProgressStyle(des…"
      ]
     },
     "metadata": {},
     "output_type": "display_data"
    },
    {
     "name": "stdout",
     "output_type": "stream",
     "text": [
      "\n"
     ]
    },
    {
     "data": {
      "application/vnd.jupyter.widget-view+json": {
       "model_id": "6454365d428846aaa29ffb66d326c55a",
       "version_major": 2,
       "version_minor": 0
      },
      "text/plain": [
       "HBox(children=(IntProgress(value=0, description='completed songs in epoch 54', max=10, style=ProgressStyle(des…"
      ]
     },
     "metadata": {},
     "output_type": "display_data"
    },
    {
     "name": "stdout",
     "output_type": "stream",
     "text": [
      "\n"
     ]
    },
    {
     "data": {
      "application/vnd.jupyter.widget-view+json": {
       "model_id": "812156b6d48049d6af37857b0f10d5a7",
       "version_major": 2,
       "version_minor": 0
      },
      "text/plain": [
       "HBox(children=(IntProgress(value=0, description='completed songs in epoch 55', max=10, style=ProgressStyle(des…"
      ]
     },
     "metadata": {},
     "output_type": "display_data"
    },
    {
     "name": "stdout",
     "output_type": "stream",
     "text": [
      "\n"
     ]
    },
    {
     "data": {
      "application/vnd.jupyter.widget-view+json": {
       "model_id": "23e6f41772e748548ac0ac4a8787de95",
       "version_major": 2,
       "version_minor": 0
      },
      "text/plain": [
       "HBox(children=(IntProgress(value=0, description='completed songs in epoch 56', max=10, style=ProgressStyle(des…"
      ]
     },
     "metadata": {},
     "output_type": "display_data"
    },
    {
     "name": "stdout",
     "output_type": "stream",
     "text": [
      "\n"
     ]
    },
    {
     "data": {
      "application/vnd.jupyter.widget-view+json": {
       "model_id": "2ed8e6cb66cd4b549bb9dbd835ce2511",
       "version_major": 2,
       "version_minor": 0
      },
      "text/plain": [
       "HBox(children=(IntProgress(value=0, description='completed songs in epoch 57', max=10, style=ProgressStyle(des…"
      ]
     },
     "metadata": {},
     "output_type": "display_data"
    },
    {
     "name": "stdout",
     "output_type": "stream",
     "text": [
      "\n"
     ]
    },
    {
     "data": {
      "application/vnd.jupyter.widget-view+json": {
       "model_id": "fbcf03bcfd514dd8a8be3a87eedf2109",
       "version_major": 2,
       "version_minor": 0
      },
      "text/plain": [
       "HBox(children=(IntProgress(value=0, description='completed songs in epoch 58', max=10, style=ProgressStyle(des…"
      ]
     },
     "metadata": {},
     "output_type": "display_data"
    },
    {
     "name": "stdout",
     "output_type": "stream",
     "text": [
      "\n"
     ]
    },
    {
     "data": {
      "application/vnd.jupyter.widget-view+json": {
       "model_id": "6f98bf4887fa420dbd632b42bfec6ba2",
       "version_major": 2,
       "version_minor": 0
      },
      "text/plain": [
       "HBox(children=(IntProgress(value=0, description='completed songs in epoch 59', max=10, style=ProgressStyle(des…"
      ]
     },
     "metadata": {},
     "output_type": "display_data"
    },
    {
     "name": "stdout",
     "output_type": "stream",
     "text": [
      "\n"
     ]
    },
    {
     "data": {
      "application/vnd.jupyter.widget-view+json": {
       "model_id": "0d2609c02a9f472fb8a9ad538852c34c",
       "version_major": 2,
       "version_minor": 0
      },
      "text/plain": [
       "HBox(children=(IntProgress(value=0, description='completed songs in epoch 60', max=10, style=ProgressStyle(des…"
      ]
     },
     "metadata": {},
     "output_type": "display_data"
    },
    {
     "name": "stdout",
     "output_type": "stream",
     "text": [
      "\n"
     ]
    },
    {
     "data": {
      "application/vnd.jupyter.widget-view+json": {
       "model_id": "729344e90cc54968a1482ffbca09b841",
       "version_major": 2,
       "version_minor": 0
      },
      "text/plain": [
       "HBox(children=(IntProgress(value=0, description='completed songs in epoch 61', max=10, style=ProgressStyle(des…"
      ]
     },
     "metadata": {},
     "output_type": "display_data"
    },
    {
     "name": "stdout",
     "output_type": "stream",
     "text": [
      "\n"
     ]
    },
    {
     "data": {
      "application/vnd.jupyter.widget-view+json": {
       "model_id": "81565b9101d44f8eba93cdc8502eac99",
       "version_major": 2,
       "version_minor": 0
      },
      "text/plain": [
       "HBox(children=(IntProgress(value=0, description='completed songs in epoch 62', max=10, style=ProgressStyle(des…"
      ]
     },
     "metadata": {},
     "output_type": "display_data"
    },
    {
     "name": "stdout",
     "output_type": "stream",
     "text": [
      "\n"
     ]
    },
    {
     "data": {
      "application/vnd.jupyter.widget-view+json": {
       "model_id": "668a6fc42f804e51be4a3e109e470add",
       "version_major": 2,
       "version_minor": 0
      },
      "text/plain": [
       "HBox(children=(IntProgress(value=0, description='completed songs in epoch 63', max=10, style=ProgressStyle(des…"
      ]
     },
     "metadata": {},
     "output_type": "display_data"
    },
    {
     "name": "stdout",
     "output_type": "stream",
     "text": [
      "\n"
     ]
    },
    {
     "data": {
      "application/vnd.jupyter.widget-view+json": {
       "model_id": "b7f6854be399498ea4cc5238d99f3625",
       "version_major": 2,
       "version_minor": 0
      },
      "text/plain": [
       "HBox(children=(IntProgress(value=0, description='completed songs in epoch 64', max=10, style=ProgressStyle(des…"
      ]
     },
     "metadata": {},
     "output_type": "display_data"
    },
    {
     "name": "stdout",
     "output_type": "stream",
     "text": [
      "\n"
     ]
    },
    {
     "data": {
      "application/vnd.jupyter.widget-view+json": {
       "model_id": "0e3a9faee7624cfebdc1257648b369ca",
       "version_major": 2,
       "version_minor": 0
      },
      "text/plain": [
       "HBox(children=(IntProgress(value=0, description='completed songs in epoch 65', max=10, style=ProgressStyle(des…"
      ]
     },
     "metadata": {},
     "output_type": "display_data"
    },
    {
     "name": "stdout",
     "output_type": "stream",
     "text": [
      "\n"
     ]
    },
    {
     "data": {
      "application/vnd.jupyter.widget-view+json": {
       "model_id": "f86b206eb6964c0fa92003a0be0ea331",
       "version_major": 2,
       "version_minor": 0
      },
      "text/plain": [
       "HBox(children=(IntProgress(value=0, description='completed songs in epoch 66', max=10, style=ProgressStyle(des…"
      ]
     },
     "metadata": {},
     "output_type": "display_data"
    },
    {
     "name": "stdout",
     "output_type": "stream",
     "text": [
      "\n"
     ]
    },
    {
     "data": {
      "application/vnd.jupyter.widget-view+json": {
       "model_id": "3fa5881bab3747708a54aa8e97001920",
       "version_major": 2,
       "version_minor": 0
      },
      "text/plain": [
       "HBox(children=(IntProgress(value=0, description='completed songs in epoch 67', max=10, style=ProgressStyle(des…"
      ]
     },
     "metadata": {},
     "output_type": "display_data"
    },
    {
     "name": "stdout",
     "output_type": "stream",
     "text": [
      "\n"
     ]
    },
    {
     "data": {
      "application/vnd.jupyter.widget-view+json": {
       "model_id": "106b5a5c59f6482e8af839949cba77c8",
       "version_major": 2,
       "version_minor": 0
      },
      "text/plain": [
       "HBox(children=(IntProgress(value=0, description='completed songs in epoch 68', max=10, style=ProgressStyle(des…"
      ]
     },
     "metadata": {},
     "output_type": "display_data"
    },
    {
     "name": "stdout",
     "output_type": "stream",
     "text": [
      "\n"
     ]
    },
    {
     "data": {
      "application/vnd.jupyter.widget-view+json": {
       "model_id": "782d5aa5c1bc4a8abb779ecc8f66426e",
       "version_major": 2,
       "version_minor": 0
      },
      "text/plain": [
       "HBox(children=(IntProgress(value=0, description='completed songs in epoch 69', max=10, style=ProgressStyle(des…"
      ]
     },
     "metadata": {},
     "output_type": "display_data"
    },
    {
     "name": "stdout",
     "output_type": "stream",
     "text": [
      "\n"
     ]
    },
    {
     "data": {
      "application/vnd.jupyter.widget-view+json": {
       "model_id": "293dc00cf4214686a088827efce7fbe9",
       "version_major": 2,
       "version_minor": 0
      },
      "text/plain": [
       "HBox(children=(IntProgress(value=0, description='completed songs in epoch 70', max=10, style=ProgressStyle(des…"
      ]
     },
     "metadata": {},
     "output_type": "display_data"
    },
    {
     "name": "stdout",
     "output_type": "stream",
     "text": [
      "\n"
     ]
    },
    {
     "data": {
      "application/vnd.jupyter.widget-view+json": {
       "model_id": "d63ad563a267412ba90b9181e3195ba2",
       "version_major": 2,
       "version_minor": 0
      },
      "text/plain": [
       "HBox(children=(IntProgress(value=0, description='completed songs in epoch 71', max=10, style=ProgressStyle(des…"
      ]
     },
     "metadata": {},
     "output_type": "display_data"
    },
    {
     "name": "stdout",
     "output_type": "stream",
     "text": [
      "\n"
     ]
    },
    {
     "data": {
      "application/vnd.jupyter.widget-view+json": {
       "model_id": "da1b2400ef5749b09d624a60b20e5dbd",
       "version_major": 2,
       "version_minor": 0
      },
      "text/plain": [
       "HBox(children=(IntProgress(value=0, description='completed songs in epoch 72', max=10, style=ProgressStyle(des…"
      ]
     },
     "metadata": {},
     "output_type": "display_data"
    },
    {
     "name": "stdout",
     "output_type": "stream",
     "text": [
      "\n"
     ]
    },
    {
     "data": {
      "application/vnd.jupyter.widget-view+json": {
       "model_id": "357ee142aead49598e0dd52796fa18d5",
       "version_major": 2,
       "version_minor": 0
      },
      "text/plain": [
       "HBox(children=(IntProgress(value=0, description='completed songs in epoch 73', max=10, style=ProgressStyle(des…"
      ]
     },
     "metadata": {},
     "output_type": "display_data"
    },
    {
     "name": "stdout",
     "output_type": "stream",
     "text": [
      "\n"
     ]
    },
    {
     "data": {
      "application/vnd.jupyter.widget-view+json": {
       "model_id": "8cd01bd6bcd94a49a82cdd65b3f65bea",
       "version_major": 2,
       "version_minor": 0
      },
      "text/plain": [
       "HBox(children=(IntProgress(value=0, description='completed songs in epoch 74', max=10, style=ProgressStyle(des…"
      ]
     },
     "metadata": {},
     "output_type": "display_data"
    },
    {
     "name": "stdout",
     "output_type": "stream",
     "text": [
      "\n"
     ]
    },
    {
     "data": {
      "application/vnd.jupyter.widget-view+json": {
       "model_id": "cd2b868534c14b4e964d4165da1e29d2",
       "version_major": 2,
       "version_minor": 0
      },
      "text/plain": [
       "HBox(children=(IntProgress(value=0, description='completed songs in epoch 75', max=10, style=ProgressStyle(des…"
      ]
     },
     "metadata": {},
     "output_type": "display_data"
    },
    {
     "name": "stdout",
     "output_type": "stream",
     "text": [
      "\n"
     ]
    },
    {
     "data": {
      "application/vnd.jupyter.widget-view+json": {
       "model_id": "a75b6ae1b9cc4b778df93f077d3dbdb5",
       "version_major": 2,
       "version_minor": 0
      },
      "text/plain": [
       "HBox(children=(IntProgress(value=0, description='completed songs in epoch 76', max=10, style=ProgressStyle(des…"
      ]
     },
     "metadata": {},
     "output_type": "display_data"
    },
    {
     "name": "stdout",
     "output_type": "stream",
     "text": [
      "\n"
     ]
    },
    {
     "data": {
      "application/vnd.jupyter.widget-view+json": {
       "model_id": "bf8d0cd74ca241bb9e9f4f29ffab7690",
       "version_major": 2,
       "version_minor": 0
      },
      "text/plain": [
       "HBox(children=(IntProgress(value=0, description='completed songs in epoch 77', max=10, style=ProgressStyle(des…"
      ]
     },
     "metadata": {},
     "output_type": "display_data"
    },
    {
     "name": "stdout",
     "output_type": "stream",
     "text": [
      "\n"
     ]
    },
    {
     "data": {
      "application/vnd.jupyter.widget-view+json": {
       "model_id": "2eba7b8b8d0c451587987a8ab7be29df",
       "version_major": 2,
       "version_minor": 0
      },
      "text/plain": [
       "HBox(children=(IntProgress(value=0, description='completed songs in epoch 78', max=10, style=ProgressStyle(des…"
      ]
     },
     "metadata": {},
     "output_type": "display_data"
    },
    {
     "name": "stdout",
     "output_type": "stream",
     "text": [
      "\n"
     ]
    },
    {
     "data": {
      "application/vnd.jupyter.widget-view+json": {
       "model_id": "1504b11813ee4a139184205997eeb392",
       "version_major": 2,
       "version_minor": 0
      },
      "text/plain": [
       "HBox(children=(IntProgress(value=0, description='completed songs in epoch 79', max=10, style=ProgressStyle(des…"
      ]
     },
     "metadata": {},
     "output_type": "display_data"
    },
    {
     "name": "stdout",
     "output_type": "stream",
     "text": [
      "\n"
     ]
    },
    {
     "data": {
      "application/vnd.jupyter.widget-view+json": {
       "model_id": "9dd1a36e5e074ff2801894be94b3694d",
       "version_major": 2,
       "version_minor": 0
      },
      "text/plain": [
       "HBox(children=(IntProgress(value=0, description='completed songs in epoch 80', max=10, style=ProgressStyle(des…"
      ]
     },
     "metadata": {},
     "output_type": "display_data"
    },
    {
     "name": "stdout",
     "output_type": "stream",
     "text": [
      "\n"
     ]
    },
    {
     "data": {
      "application/vnd.jupyter.widget-view+json": {
       "model_id": "6ffc01c8f89547e4a218f64c444c2ef3",
       "version_major": 2,
       "version_minor": 0
      },
      "text/plain": [
       "HBox(children=(IntProgress(value=0, description='completed songs in epoch 81', max=10, style=ProgressStyle(des…"
      ]
     },
     "metadata": {},
     "output_type": "display_data"
    },
    {
     "name": "stdout",
     "output_type": "stream",
     "text": [
      "\n"
     ]
    },
    {
     "data": {
      "application/vnd.jupyter.widget-view+json": {
       "model_id": "ca65fb9f1fdc422ab5fe0b741d36eac3",
       "version_major": 2,
       "version_minor": 0
      },
      "text/plain": [
       "HBox(children=(IntProgress(value=0, description='completed songs in epoch 82', max=10, style=ProgressStyle(des…"
      ]
     },
     "metadata": {},
     "output_type": "display_data"
    },
    {
     "name": "stdout",
     "output_type": "stream",
     "text": [
      "\n"
     ]
    },
    {
     "data": {
      "application/vnd.jupyter.widget-view+json": {
       "model_id": "132a2e12aaa44996871afc60ffb438d6",
       "version_major": 2,
       "version_minor": 0
      },
      "text/plain": [
       "HBox(children=(IntProgress(value=0, description='completed songs in epoch 83', max=10, style=ProgressStyle(des…"
      ]
     },
     "metadata": {},
     "output_type": "display_data"
    },
    {
     "name": "stdout",
     "output_type": "stream",
     "text": [
      "\n"
     ]
    },
    {
     "data": {
      "application/vnd.jupyter.widget-view+json": {
       "model_id": "616dbd6007664575b14c35ac835231b8",
       "version_major": 2,
       "version_minor": 0
      },
      "text/plain": [
       "HBox(children=(IntProgress(value=0, description='completed songs in epoch 84', max=10, style=ProgressStyle(des…"
      ]
     },
     "metadata": {},
     "output_type": "display_data"
    },
    {
     "name": "stdout",
     "output_type": "stream",
     "text": [
      "\n"
     ]
    },
    {
     "data": {
      "application/vnd.jupyter.widget-view+json": {
       "model_id": "45fd207008794c1b977bc4d04ea0a64c",
       "version_major": 2,
       "version_minor": 0
      },
      "text/plain": [
       "HBox(children=(IntProgress(value=0, description='completed songs in epoch 85', max=10, style=ProgressStyle(des…"
      ]
     },
     "metadata": {},
     "output_type": "display_data"
    },
    {
     "name": "stdout",
     "output_type": "stream",
     "text": [
      "\n"
     ]
    },
    {
     "data": {
      "application/vnd.jupyter.widget-view+json": {
       "model_id": "5ed2ebfd11dc452abbb76daa3998e367",
       "version_major": 2,
       "version_minor": 0
      },
      "text/plain": [
       "HBox(children=(IntProgress(value=0, description='completed songs in epoch 86', max=10, style=ProgressStyle(des…"
      ]
     },
     "metadata": {},
     "output_type": "display_data"
    },
    {
     "name": "stdout",
     "output_type": "stream",
     "text": [
      "\n"
     ]
    },
    {
     "data": {
      "application/vnd.jupyter.widget-view+json": {
       "model_id": "8cba0640cfb2438eb372eb9b960869f2",
       "version_major": 2,
       "version_minor": 0
      },
      "text/plain": [
       "HBox(children=(IntProgress(value=0, description='completed songs in epoch 87', max=10, style=ProgressStyle(des…"
      ]
     },
     "metadata": {},
     "output_type": "display_data"
    },
    {
     "name": "stdout",
     "output_type": "stream",
     "text": [
      "\n"
     ]
    },
    {
     "data": {
      "application/vnd.jupyter.widget-view+json": {
       "model_id": "08643353ea1c4197a0cba77665f2914b",
       "version_major": 2,
       "version_minor": 0
      },
      "text/plain": [
       "HBox(children=(IntProgress(value=0, description='completed songs in epoch 88', max=10, style=ProgressStyle(des…"
      ]
     },
     "metadata": {},
     "output_type": "display_data"
    },
    {
     "name": "stdout",
     "output_type": "stream",
     "text": [
      "\n"
     ]
    },
    {
     "data": {
      "application/vnd.jupyter.widget-view+json": {
       "model_id": "b669feabfaa74b288048c87e78e2add3",
       "version_major": 2,
       "version_minor": 0
      },
      "text/plain": [
       "HBox(children=(IntProgress(value=0, description='completed songs in epoch 89', max=10, style=ProgressStyle(des…"
      ]
     },
     "metadata": {},
     "output_type": "display_data"
    },
    {
     "name": "stdout",
     "output_type": "stream",
     "text": [
      "\n"
     ]
    },
    {
     "data": {
      "application/vnd.jupyter.widget-view+json": {
       "model_id": "888421879ad24d249d809d3acef3bcbe",
       "version_major": 2,
       "version_minor": 0
      },
      "text/plain": [
       "HBox(children=(IntProgress(value=0, description='completed songs in epoch 90', max=10, style=ProgressStyle(des…"
      ]
     },
     "metadata": {},
     "output_type": "display_data"
    },
    {
     "name": "stdout",
     "output_type": "stream",
     "text": [
      "\n"
     ]
    },
    {
     "data": {
      "application/vnd.jupyter.widget-view+json": {
       "model_id": "f411b68befd04131810ce707ac47c70c",
       "version_major": 2,
       "version_minor": 0
      },
      "text/plain": [
       "HBox(children=(IntProgress(value=0, description='completed songs in epoch 91', max=10, style=ProgressStyle(des…"
      ]
     },
     "metadata": {},
     "output_type": "display_data"
    },
    {
     "name": "stdout",
     "output_type": "stream",
     "text": [
      "\n"
     ]
    },
    {
     "data": {
      "application/vnd.jupyter.widget-view+json": {
       "model_id": "da5d9dff386144e690867bb259c6e522",
       "version_major": 2,
       "version_minor": 0
      },
      "text/plain": [
       "HBox(children=(IntProgress(value=0, description='completed songs in epoch 92', max=10, style=ProgressStyle(des…"
      ]
     },
     "metadata": {},
     "output_type": "display_data"
    },
    {
     "name": "stdout",
     "output_type": "stream",
     "text": [
      "\n"
     ]
    },
    {
     "data": {
      "application/vnd.jupyter.widget-view+json": {
       "model_id": "2e4b407e0ea54ccc851457ab74facd72",
       "version_major": 2,
       "version_minor": 0
      },
      "text/plain": [
       "HBox(children=(IntProgress(value=0, description='completed songs in epoch 93', max=10, style=ProgressStyle(des…"
      ]
     },
     "metadata": {},
     "output_type": "display_data"
    },
    {
     "name": "stdout",
     "output_type": "stream",
     "text": [
      "\n"
     ]
    },
    {
     "data": {
      "application/vnd.jupyter.widget-view+json": {
       "model_id": "d5af9cc533614a2ba76b3db8c7ee6bb9",
       "version_major": 2,
       "version_minor": 0
      },
      "text/plain": [
       "HBox(children=(IntProgress(value=0, description='completed songs in epoch 94', max=10, style=ProgressStyle(des…"
      ]
     },
     "metadata": {},
     "output_type": "display_data"
    },
    {
     "name": "stdout",
     "output_type": "stream",
     "text": [
      "\n"
     ]
    },
    {
     "data": {
      "application/vnd.jupyter.widget-view+json": {
       "model_id": "3395ba8113094e3c80e779e48f427002",
       "version_major": 2,
       "version_minor": 0
      },
      "text/plain": [
       "HBox(children=(IntProgress(value=0, description='completed songs in epoch 95', max=10, style=ProgressStyle(des…"
      ]
     },
     "metadata": {},
     "output_type": "display_data"
    },
    {
     "name": "stdout",
     "output_type": "stream",
     "text": [
      "\n"
     ]
    },
    {
     "data": {
      "application/vnd.jupyter.widget-view+json": {
       "model_id": "94f1326c96674f8f96ab65b516cf1579",
       "version_major": 2,
       "version_minor": 0
      },
      "text/plain": [
       "HBox(children=(IntProgress(value=0, description='completed songs in epoch 96', max=10, style=ProgressStyle(des…"
      ]
     },
     "metadata": {},
     "output_type": "display_data"
    },
    {
     "name": "stdout",
     "output_type": "stream",
     "text": [
      "\n"
     ]
    },
    {
     "data": {
      "application/vnd.jupyter.widget-view+json": {
       "model_id": "f1ef1a4eb827453bb036792c06ef68b2",
       "version_major": 2,
       "version_minor": 0
      },
      "text/plain": [
       "HBox(children=(IntProgress(value=0, description='completed songs in epoch 97', max=10, style=ProgressStyle(des…"
      ]
     },
     "metadata": {},
     "output_type": "display_data"
    },
    {
     "name": "stdout",
     "output_type": "stream",
     "text": [
      "\n"
     ]
    },
    {
     "data": {
      "application/vnd.jupyter.widget-view+json": {
       "model_id": "b887f8f70ef447ca83c77bcbad9a7093",
       "version_major": 2,
       "version_minor": 0
      },
      "text/plain": [
       "HBox(children=(IntProgress(value=0, description='completed songs in epoch 98', max=10, style=ProgressStyle(des…"
      ]
     },
     "metadata": {},
     "output_type": "display_data"
    },
    {
     "name": "stdout",
     "output_type": "stream",
     "text": [
      "\n"
     ]
    },
    {
     "data": {
      "application/vnd.jupyter.widget-view+json": {
       "model_id": "680d1a27f0f14f91b9e719def731ad15",
       "version_major": 2,
       "version_minor": 0
      },
      "text/plain": [
       "HBox(children=(IntProgress(value=0, description='completed songs in epoch 99', max=10, style=ProgressStyle(des…"
      ]
     },
     "metadata": {},
     "output_type": "display_data"
    },
    {
     "name": "stdout",
     "output_type": "stream",
     "text": [
      "\n"
     ]
    },
    {
     "data": {
      "application/vnd.jupyter.widget-view+json": {
       "model_id": "5d6792f92db74a8d9bf305abd2958ea5",
       "version_major": 2,
       "version_minor": 0
      },
      "text/plain": [
       "HBox(children=(IntProgress(value=0, description='completed songs in epoch 100', max=10, style=ProgressStyle(de…"
      ]
     },
     "metadata": {},
     "output_type": "display_data"
    },
    {
     "name": "stdout",
     "output_type": "stream",
     "text": [
      "\n"
     ]
    },
    {
     "data": {
      "application/vnd.jupyter.widget-view+json": {
       "model_id": "1016857580a541c0987f79586e53cff9",
       "version_major": 2,
       "version_minor": 0
      },
      "text/plain": [
       "HBox(children=(IntProgress(value=0, description='completed songs in epoch 101', max=10, style=ProgressStyle(de…"
      ]
     },
     "metadata": {},
     "output_type": "display_data"
    },
    {
     "name": "stdout",
     "output_type": "stream",
     "text": [
      "\n"
     ]
    },
    {
     "data": {
      "application/vnd.jupyter.widget-view+json": {
       "model_id": "6ab06fe1b7b5456f9d8df9aabe18a8dd",
       "version_major": 2,
       "version_minor": 0
      },
      "text/plain": [
       "HBox(children=(IntProgress(value=0, description='completed songs in epoch 102', max=10, style=ProgressStyle(de…"
      ]
     },
     "metadata": {},
     "output_type": "display_data"
    },
    {
     "name": "stdout",
     "output_type": "stream",
     "text": [
      "\n"
     ]
    },
    {
     "data": {
      "application/vnd.jupyter.widget-view+json": {
       "model_id": "af93c91486564a9787a0a04df056f6ef",
       "version_major": 2,
       "version_minor": 0
      },
      "text/plain": [
       "HBox(children=(IntProgress(value=0, description='completed songs in epoch 103', max=10, style=ProgressStyle(de…"
      ]
     },
     "metadata": {},
     "output_type": "display_data"
    },
    {
     "name": "stdout",
     "output_type": "stream",
     "text": [
      "\n"
     ]
    },
    {
     "data": {
      "application/vnd.jupyter.widget-view+json": {
       "model_id": "bf4a2d3631c7442db7ca0019d1364e1e",
       "version_major": 2,
       "version_minor": 0
      },
      "text/plain": [
       "HBox(children=(IntProgress(value=0, description='completed songs in epoch 104', max=10, style=ProgressStyle(de…"
      ]
     },
     "metadata": {},
     "output_type": "display_data"
    },
    {
     "name": "stdout",
     "output_type": "stream",
     "text": [
      "\n"
     ]
    },
    {
     "data": {
      "application/vnd.jupyter.widget-view+json": {
       "model_id": "efd48a28243c45c3af88c00bc6299f05",
       "version_major": 2,
       "version_minor": 0
      },
      "text/plain": [
       "HBox(children=(IntProgress(value=0, description='completed songs in epoch 105', max=10, style=ProgressStyle(de…"
      ]
     },
     "metadata": {},
     "output_type": "display_data"
    },
    {
     "name": "stdout",
     "output_type": "stream",
     "text": [
      "\n"
     ]
    },
    {
     "data": {
      "application/vnd.jupyter.widget-view+json": {
       "model_id": "3cb41b1b1c344e718f0f5f60e9a56e1e",
       "version_major": 2,
       "version_minor": 0
      },
      "text/plain": [
       "HBox(children=(IntProgress(value=0, description='completed songs in epoch 106', max=10, style=ProgressStyle(de…"
      ]
     },
     "metadata": {},
     "output_type": "display_data"
    },
    {
     "name": "stdout",
     "output_type": "stream",
     "text": [
      "\n"
     ]
    },
    {
     "data": {
      "application/vnd.jupyter.widget-view+json": {
       "model_id": "ae340e65b0ed4f968d7e65ae1acf7807",
       "version_major": 2,
       "version_minor": 0
      },
      "text/plain": [
       "HBox(children=(IntProgress(value=0, description='completed songs in epoch 107', max=10, style=ProgressStyle(de…"
      ]
     },
     "metadata": {},
     "output_type": "display_data"
    },
    {
     "name": "stdout",
     "output_type": "stream",
     "text": [
      "\n"
     ]
    },
    {
     "data": {
      "application/vnd.jupyter.widget-view+json": {
       "model_id": "705d85486b214878933510165c040c4c",
       "version_major": 2,
       "version_minor": 0
      },
      "text/plain": [
       "HBox(children=(IntProgress(value=0, description='completed songs in epoch 108', max=10, style=ProgressStyle(de…"
      ]
     },
     "metadata": {},
     "output_type": "display_data"
    },
    {
     "name": "stdout",
     "output_type": "stream",
     "text": [
      "\n"
     ]
    },
    {
     "data": {
      "application/vnd.jupyter.widget-view+json": {
       "model_id": "260e2787502d4c6081eef7844e5cd82b",
       "version_major": 2,
       "version_minor": 0
      },
      "text/plain": [
       "HBox(children=(IntProgress(value=0, description='completed songs in epoch 109', max=10, style=ProgressStyle(de…"
      ]
     },
     "metadata": {},
     "output_type": "display_data"
    },
    {
     "name": "stdout",
     "output_type": "stream",
     "text": [
      "\n"
     ]
    },
    {
     "data": {
      "application/vnd.jupyter.widget-view+json": {
       "model_id": "a4631871cf50493fb57932e01816e634",
       "version_major": 2,
       "version_minor": 0
      },
      "text/plain": [
       "HBox(children=(IntProgress(value=0, description='completed songs in epoch 110', max=10, style=ProgressStyle(de…"
      ]
     },
     "metadata": {},
     "output_type": "display_data"
    },
    {
     "name": "stdout",
     "output_type": "stream",
     "text": [
      "\n"
     ]
    },
    {
     "data": {
      "application/vnd.jupyter.widget-view+json": {
       "model_id": "439c7cfde94a419cb580e9a5e6d32e4c",
       "version_major": 2,
       "version_minor": 0
      },
      "text/plain": [
       "HBox(children=(IntProgress(value=0, description='completed songs in epoch 111', max=10, style=ProgressStyle(de…"
      ]
     },
     "metadata": {},
     "output_type": "display_data"
    },
    {
     "name": "stdout",
     "output_type": "stream",
     "text": [
      "\n"
     ]
    },
    {
     "data": {
      "application/vnd.jupyter.widget-view+json": {
       "model_id": "990dfad705194addb93c9587ecae9a7f",
       "version_major": 2,
       "version_minor": 0
      },
      "text/plain": [
       "HBox(children=(IntProgress(value=0, description='completed songs in epoch 112', max=10, style=ProgressStyle(de…"
      ]
     },
     "metadata": {},
     "output_type": "display_data"
    },
    {
     "name": "stdout",
     "output_type": "stream",
     "text": [
      "\n"
     ]
    },
    {
     "data": {
      "application/vnd.jupyter.widget-view+json": {
       "model_id": "8c8ece8ab69a43999c21be1179a65ddf",
       "version_major": 2,
       "version_minor": 0
      },
      "text/plain": [
       "HBox(children=(IntProgress(value=0, description='completed songs in epoch 113', max=10, style=ProgressStyle(de…"
      ]
     },
     "metadata": {},
     "output_type": "display_data"
    },
    {
     "name": "stdout",
     "output_type": "stream",
     "text": [
      "\n"
     ]
    },
    {
     "data": {
      "application/vnd.jupyter.widget-view+json": {
       "model_id": "27152b92eb83433ba6a87a9b91276e1e",
       "version_major": 2,
       "version_minor": 0
      },
      "text/plain": [
       "HBox(children=(IntProgress(value=0, description='completed songs in epoch 114', max=10, style=ProgressStyle(de…"
      ]
     },
     "metadata": {},
     "output_type": "display_data"
    },
    {
     "name": "stdout",
     "output_type": "stream",
     "text": [
      "\n"
     ]
    },
    {
     "data": {
      "application/vnd.jupyter.widget-view+json": {
       "model_id": "6a78e250b5af45959f18c3459f5c29e8",
       "version_major": 2,
       "version_minor": 0
      },
      "text/plain": [
       "HBox(children=(IntProgress(value=0, description='completed songs in epoch 115', max=10, style=ProgressStyle(de…"
      ]
     },
     "metadata": {},
     "output_type": "display_data"
    },
    {
     "name": "stdout",
     "output_type": "stream",
     "text": [
      "\n"
     ]
    },
    {
     "data": {
      "application/vnd.jupyter.widget-view+json": {
       "model_id": "d0a6d07eb9ec4e0387b9b3f0bd93096a",
       "version_major": 2,
       "version_minor": 0
      },
      "text/plain": [
       "HBox(children=(IntProgress(value=0, description='completed songs in epoch 116', max=10, style=ProgressStyle(de…"
      ]
     },
     "metadata": {},
     "output_type": "display_data"
    },
    {
     "name": "stdout",
     "output_type": "stream",
     "text": [
      "\n"
     ]
    },
    {
     "data": {
      "application/vnd.jupyter.widget-view+json": {
       "model_id": "e6f7e5b8a6ab4d71a36b79732fdc3464",
       "version_major": 2,
       "version_minor": 0
      },
      "text/plain": [
       "HBox(children=(IntProgress(value=0, description='completed songs in epoch 117', max=10, style=ProgressStyle(de…"
      ]
     },
     "metadata": {},
     "output_type": "display_data"
    },
    {
     "name": "stdout",
     "output_type": "stream",
     "text": [
      "\n"
     ]
    },
    {
     "data": {
      "application/vnd.jupyter.widget-view+json": {
       "model_id": "2337e61b6fe0430f82f996f5277a9428",
       "version_major": 2,
       "version_minor": 0
      },
      "text/plain": [
       "HBox(children=(IntProgress(value=0, description='completed songs in epoch 118', max=10, style=ProgressStyle(de…"
      ]
     },
     "metadata": {},
     "output_type": "display_data"
    },
    {
     "name": "stdout",
     "output_type": "stream",
     "text": [
      "\n"
     ]
    },
    {
     "data": {
      "application/vnd.jupyter.widget-view+json": {
       "model_id": "3ae543c6d63f471997f0b58d3a0c4a86",
       "version_major": 2,
       "version_minor": 0
      },
      "text/plain": [
       "HBox(children=(IntProgress(value=0, description='completed songs in epoch 119', max=10, style=ProgressStyle(de…"
      ]
     },
     "metadata": {},
     "output_type": "display_data"
    },
    {
     "name": "stdout",
     "output_type": "stream",
     "text": [
      "\n"
     ]
    },
    {
     "data": {
      "application/vnd.jupyter.widget-view+json": {
       "model_id": "e31c859512594120b6069104adca45a5",
       "version_major": 2,
       "version_minor": 0
      },
      "text/plain": [
       "HBox(children=(IntProgress(value=0, description='completed songs in epoch 120', max=10, style=ProgressStyle(de…"
      ]
     },
     "metadata": {},
     "output_type": "display_data"
    },
    {
     "name": "stdout",
     "output_type": "stream",
     "text": [
      "\n"
     ]
    },
    {
     "data": {
      "application/vnd.jupyter.widget-view+json": {
       "model_id": "2241b9d66330465ea94529368849c9c7",
       "version_major": 2,
       "version_minor": 0
      },
      "text/plain": [
       "HBox(children=(IntProgress(value=0, description='completed songs in epoch 121', max=10, style=ProgressStyle(de…"
      ]
     },
     "metadata": {},
     "output_type": "display_data"
    },
    {
     "name": "stdout",
     "output_type": "stream",
     "text": [
      "\n"
     ]
    },
    {
     "data": {
      "application/vnd.jupyter.widget-view+json": {
       "model_id": "aa82da7a05824c1d917ab0b121ebdbf8",
       "version_major": 2,
       "version_minor": 0
      },
      "text/plain": [
       "HBox(children=(IntProgress(value=0, description='completed songs in epoch 122', max=10, style=ProgressStyle(de…"
      ]
     },
     "metadata": {},
     "output_type": "display_data"
    },
    {
     "name": "stdout",
     "output_type": "stream",
     "text": [
      "\n"
     ]
    },
    {
     "data": {
      "application/vnd.jupyter.widget-view+json": {
       "model_id": "e36f7b25a0f148e898c8f9e8f832f1ca",
       "version_major": 2,
       "version_minor": 0
      },
      "text/plain": [
       "HBox(children=(IntProgress(value=0, description='completed songs in epoch 123', max=10, style=ProgressStyle(de…"
      ]
     },
     "metadata": {},
     "output_type": "display_data"
    },
    {
     "name": "stdout",
     "output_type": "stream",
     "text": [
      "\n"
     ]
    },
    {
     "data": {
      "application/vnd.jupyter.widget-view+json": {
       "model_id": "f9fa49a5d8ed4ad18828b6f7f1ac309b",
       "version_major": 2,
       "version_minor": 0
      },
      "text/plain": [
       "HBox(children=(IntProgress(value=0, description='completed songs in epoch 124', max=10, style=ProgressStyle(de…"
      ]
     },
     "metadata": {},
     "output_type": "display_data"
    },
    {
     "name": "stdout",
     "output_type": "stream",
     "text": [
      "\n"
     ]
    },
    {
     "data": {
      "application/vnd.jupyter.widget-view+json": {
       "model_id": "b6fa83314da640dea4e84b28415ca5b0",
       "version_major": 2,
       "version_minor": 0
      },
      "text/plain": [
       "HBox(children=(IntProgress(value=0, description='completed songs in epoch 125', max=10, style=ProgressStyle(de…"
      ]
     },
     "metadata": {},
     "output_type": "display_data"
    },
    {
     "name": "stdout",
     "output_type": "stream",
     "text": [
      "\n"
     ]
    },
    {
     "data": {
      "application/vnd.jupyter.widget-view+json": {
       "model_id": "290d2bf948f1427d9f30c6fac65da714",
       "version_major": 2,
       "version_minor": 0
      },
      "text/plain": [
       "HBox(children=(IntProgress(value=0, description='completed songs in epoch 126', max=10, style=ProgressStyle(de…"
      ]
     },
     "metadata": {},
     "output_type": "display_data"
    },
    {
     "name": "stdout",
     "output_type": "stream",
     "text": [
      "\n"
     ]
    },
    {
     "data": {
      "application/vnd.jupyter.widget-view+json": {
       "model_id": "9551be9551754010b6260bb0b497302d",
       "version_major": 2,
       "version_minor": 0
      },
      "text/plain": [
       "HBox(children=(IntProgress(value=0, description='completed songs in epoch 127', max=10, style=ProgressStyle(de…"
      ]
     },
     "metadata": {},
     "output_type": "display_data"
    },
    {
     "name": "stdout",
     "output_type": "stream",
     "text": [
      "\n"
     ]
    },
    {
     "data": {
      "application/vnd.jupyter.widget-view+json": {
       "model_id": "6dda2ddfeb3943b8b6b2e52b093ea375",
       "version_major": 2,
       "version_minor": 0
      },
      "text/plain": [
       "HBox(children=(IntProgress(value=0, description='completed songs in epoch 128', max=10, style=ProgressStyle(de…"
      ]
     },
     "metadata": {},
     "output_type": "display_data"
    },
    {
     "name": "stdout",
     "output_type": "stream",
     "text": [
      "\n"
     ]
    },
    {
     "data": {
      "application/vnd.jupyter.widget-view+json": {
       "model_id": "0fa0faad02044cd1b0197046a45a2f64",
       "version_major": 2,
       "version_minor": 0
      },
      "text/plain": [
       "HBox(children=(IntProgress(value=0, description='completed songs in epoch 129', max=10, style=ProgressStyle(de…"
      ]
     },
     "metadata": {},
     "output_type": "display_data"
    },
    {
     "name": "stdout",
     "output_type": "stream",
     "text": [
      "\n"
     ]
    },
    {
     "data": {
      "application/vnd.jupyter.widget-view+json": {
       "model_id": "4bf96d183bdb418094c31b5f0c94a8b3",
       "version_major": 2,
       "version_minor": 0
      },
      "text/plain": [
       "HBox(children=(IntProgress(value=0, description='completed songs in epoch 130', max=10, style=ProgressStyle(de…"
      ]
     },
     "metadata": {},
     "output_type": "display_data"
    },
    {
     "name": "stdout",
     "output_type": "stream",
     "text": [
      "\n"
     ]
    },
    {
     "data": {
      "application/vnd.jupyter.widget-view+json": {
       "model_id": "7be7bd119af0432bb942ec96b5f79d5a",
       "version_major": 2,
       "version_minor": 0
      },
      "text/plain": [
       "HBox(children=(IntProgress(value=0, description='completed songs in epoch 131', max=10, style=ProgressStyle(de…"
      ]
     },
     "metadata": {},
     "output_type": "display_data"
    },
    {
     "name": "stdout",
     "output_type": "stream",
     "text": [
      "\n"
     ]
    },
    {
     "data": {
      "application/vnd.jupyter.widget-view+json": {
       "model_id": "1d21c5bca854434fa3c667bdc1ef5980",
       "version_major": 2,
       "version_minor": 0
      },
      "text/plain": [
       "HBox(children=(IntProgress(value=0, description='completed songs in epoch 132', max=10, style=ProgressStyle(de…"
      ]
     },
     "metadata": {},
     "output_type": "display_data"
    },
    {
     "name": "stdout",
     "output_type": "stream",
     "text": [
      "\n"
     ]
    },
    {
     "data": {
      "application/vnd.jupyter.widget-view+json": {
       "model_id": "ffe3c88d30854cfa9ed091e462bc7922",
       "version_major": 2,
       "version_minor": 0
      },
      "text/plain": [
       "HBox(children=(IntProgress(value=0, description='completed songs in epoch 133', max=10, style=ProgressStyle(de…"
      ]
     },
     "metadata": {},
     "output_type": "display_data"
    },
    {
     "name": "stdout",
     "output_type": "stream",
     "text": [
      "\n"
     ]
    },
    {
     "data": {
      "application/vnd.jupyter.widget-view+json": {
       "model_id": "01c71e949b2f402a859f808f2e0e7809",
       "version_major": 2,
       "version_minor": 0
      },
      "text/plain": [
       "HBox(children=(IntProgress(value=0, description='completed songs in epoch 134', max=10, style=ProgressStyle(de…"
      ]
     },
     "metadata": {},
     "output_type": "display_data"
    },
    {
     "name": "stdout",
     "output_type": "stream",
     "text": [
      "\n"
     ]
    },
    {
     "data": {
      "application/vnd.jupyter.widget-view+json": {
       "model_id": "b9f4b7a99f1a46d2be35aa91d72cd567",
       "version_major": 2,
       "version_minor": 0
      },
      "text/plain": [
       "HBox(children=(IntProgress(value=0, description='completed songs in epoch 135', max=10, style=ProgressStyle(de…"
      ]
     },
     "metadata": {},
     "output_type": "display_data"
    },
    {
     "name": "stdout",
     "output_type": "stream",
     "text": [
      "\n"
     ]
    },
    {
     "data": {
      "application/vnd.jupyter.widget-view+json": {
       "model_id": "f57973546d204d73b310d7a5d46abcac",
       "version_major": 2,
       "version_minor": 0
      },
      "text/plain": [
       "HBox(children=(IntProgress(value=0, description='completed songs in epoch 136', max=10, style=ProgressStyle(de…"
      ]
     },
     "metadata": {},
     "output_type": "display_data"
    },
    {
     "name": "stdout",
     "output_type": "stream",
     "text": [
      "\n"
     ]
    },
    {
     "data": {
      "application/vnd.jupyter.widget-view+json": {
       "model_id": "13b0293f2b6a434494f2c34e4515ef25",
       "version_major": 2,
       "version_minor": 0
      },
      "text/plain": [
       "HBox(children=(IntProgress(value=0, description='completed songs in epoch 137', max=10, style=ProgressStyle(de…"
      ]
     },
     "metadata": {},
     "output_type": "display_data"
    },
    {
     "name": "stdout",
     "output_type": "stream",
     "text": [
      "\n"
     ]
    },
    {
     "data": {
      "application/vnd.jupyter.widget-view+json": {
       "model_id": "941b6b94e6a24d4ba2437dd6855b2c8e",
       "version_major": 2,
       "version_minor": 0
      },
      "text/plain": [
       "HBox(children=(IntProgress(value=0, description='completed songs in epoch 138', max=10, style=ProgressStyle(de…"
      ]
     },
     "metadata": {},
     "output_type": "display_data"
    },
    {
     "name": "stdout",
     "output_type": "stream",
     "text": [
      "\n"
     ]
    },
    {
     "data": {
      "application/vnd.jupyter.widget-view+json": {
       "model_id": "439519a9abd3464e821722d75dd8c382",
       "version_major": 2,
       "version_minor": 0
      },
      "text/plain": [
       "HBox(children=(IntProgress(value=0, description='completed songs in epoch 139', max=10, style=ProgressStyle(de…"
      ]
     },
     "metadata": {},
     "output_type": "display_data"
    },
    {
     "name": "stdout",
     "output_type": "stream",
     "text": [
      "\n"
     ]
    },
    {
     "data": {
      "application/vnd.jupyter.widget-view+json": {
       "model_id": "ccaf3c7e8f21469294beda50ffc188a2",
       "version_major": 2,
       "version_minor": 0
      },
      "text/plain": [
       "HBox(children=(IntProgress(value=0, description='completed songs in epoch 140', max=10, style=ProgressStyle(de…"
      ]
     },
     "metadata": {},
     "output_type": "display_data"
    },
    {
     "name": "stdout",
     "output_type": "stream",
     "text": [
      "\n"
     ]
    },
    {
     "data": {
      "application/vnd.jupyter.widget-view+json": {
       "model_id": "be4843246ab946a5b8668d5494b45fb3",
       "version_major": 2,
       "version_minor": 0
      },
      "text/plain": [
       "HBox(children=(IntProgress(value=0, description='completed songs in epoch 141', max=10, style=ProgressStyle(de…"
      ]
     },
     "metadata": {},
     "output_type": "display_data"
    },
    {
     "name": "stdout",
     "output_type": "stream",
     "text": [
      "\n"
     ]
    },
    {
     "data": {
      "application/vnd.jupyter.widget-view+json": {
       "model_id": "9a1ac22333894826986e72bc4538f0cf",
       "version_major": 2,
       "version_minor": 0
      },
      "text/plain": [
       "HBox(children=(IntProgress(value=0, description='completed songs in epoch 142', max=10, style=ProgressStyle(de…"
      ]
     },
     "metadata": {},
     "output_type": "display_data"
    },
    {
     "name": "stdout",
     "output_type": "stream",
     "text": [
      "\n"
     ]
    },
    {
     "data": {
      "application/vnd.jupyter.widget-view+json": {
       "model_id": "58f2cb01baee4b6fa8e4f75e419f5d7f",
       "version_major": 2,
       "version_minor": 0
      },
      "text/plain": [
       "HBox(children=(IntProgress(value=0, description='completed songs in epoch 143', max=10, style=ProgressStyle(de…"
      ]
     },
     "metadata": {},
     "output_type": "display_data"
    },
    {
     "name": "stdout",
     "output_type": "stream",
     "text": [
      "\n"
     ]
    },
    {
     "data": {
      "application/vnd.jupyter.widget-view+json": {
       "model_id": "5c7561bb1e4e47bb9ff16077d24084f1",
       "version_major": 2,
       "version_minor": 0
      },
      "text/plain": [
       "HBox(children=(IntProgress(value=0, description='completed songs in epoch 144', max=10, style=ProgressStyle(de…"
      ]
     },
     "metadata": {},
     "output_type": "display_data"
    },
    {
     "name": "stdout",
     "output_type": "stream",
     "text": [
      "\n"
     ]
    },
    {
     "data": {
      "application/vnd.jupyter.widget-view+json": {
       "model_id": "ed5bc49637ff42afb60d4ebd6e2ab73c",
       "version_major": 2,
       "version_minor": 0
      },
      "text/plain": [
       "HBox(children=(IntProgress(value=0, description='completed songs in epoch 145', max=10, style=ProgressStyle(de…"
      ]
     },
     "metadata": {},
     "output_type": "display_data"
    },
    {
     "name": "stdout",
     "output_type": "stream",
     "text": [
      "\n"
     ]
    },
    {
     "data": {
      "application/vnd.jupyter.widget-view+json": {
       "model_id": "f6e24307671c4be1a1e9d7838e5b2f34",
       "version_major": 2,
       "version_minor": 0
      },
      "text/plain": [
       "HBox(children=(IntProgress(value=0, description='completed songs in epoch 146', max=10, style=ProgressStyle(de…"
      ]
     },
     "metadata": {},
     "output_type": "display_data"
    },
    {
     "name": "stdout",
     "output_type": "stream",
     "text": [
      "\n"
     ]
    },
    {
     "data": {
      "application/vnd.jupyter.widget-view+json": {
       "model_id": "6a6978239d1444b7b86694bd9d37c596",
       "version_major": 2,
       "version_minor": 0
      },
      "text/plain": [
       "HBox(children=(IntProgress(value=0, description='completed songs in epoch 147', max=10, style=ProgressStyle(de…"
      ]
     },
     "metadata": {},
     "output_type": "display_data"
    },
    {
     "name": "stdout",
     "output_type": "stream",
     "text": [
      "\n"
     ]
    },
    {
     "data": {
      "application/vnd.jupyter.widget-view+json": {
       "model_id": "f845ab3b88ef49d39a83f67117dc4c34",
       "version_major": 2,
       "version_minor": 0
      },
      "text/plain": [
       "HBox(children=(IntProgress(value=0, description='completed songs in epoch 148', max=10, style=ProgressStyle(de…"
      ]
     },
     "metadata": {},
     "output_type": "display_data"
    },
    {
     "name": "stdout",
     "output_type": "stream",
     "text": [
      "\n"
     ]
    },
    {
     "data": {
      "application/vnd.jupyter.widget-view+json": {
       "model_id": "27dfb785947e4538962dbc8cc266b0f9",
       "version_major": 2,
       "version_minor": 0
      },
      "text/plain": [
       "HBox(children=(IntProgress(value=0, description='completed songs in epoch 149', max=10, style=ProgressStyle(de…"
      ]
     },
     "metadata": {},
     "output_type": "display_data"
    },
    {
     "name": "stdout",
     "output_type": "stream",
     "text": [
      "\n"
     ]
    },
    {
     "data": {
      "application/vnd.jupyter.widget-view+json": {
       "model_id": "7cf273440e0f4d5a9355557a1397aa45",
       "version_major": 2,
       "version_minor": 0
      },
      "text/plain": [
       "HBox(children=(IntProgress(value=0, description='completed songs in epoch 150', max=10, style=ProgressStyle(de…"
      ]
     },
     "metadata": {},
     "output_type": "display_data"
    },
    {
     "name": "stdout",
     "output_type": "stream",
     "text": [
      "\n"
     ]
    },
    {
     "data": {
      "application/vnd.jupyter.widget-view+json": {
       "model_id": "f0a3a7079bf8426c9021a5204d536802",
       "version_major": 2,
       "version_minor": 0
      },
      "text/plain": [
       "HBox(children=(IntProgress(value=0, description='completed songs in epoch 151', max=10, style=ProgressStyle(de…"
      ]
     },
     "metadata": {},
     "output_type": "display_data"
    },
    {
     "name": "stdout",
     "output_type": "stream",
     "text": [
      "\n"
     ]
    },
    {
     "data": {
      "application/vnd.jupyter.widget-view+json": {
       "model_id": "0e60c04c1fc9467c8b3c7b1cfd6c5ef6",
       "version_major": 2,
       "version_minor": 0
      },
      "text/plain": [
       "HBox(children=(IntProgress(value=0, description='completed songs in epoch 152', max=10, style=ProgressStyle(de…"
      ]
     },
     "metadata": {},
     "output_type": "display_data"
    },
    {
     "name": "stdout",
     "output_type": "stream",
     "text": [
      "\n"
     ]
    },
    {
     "data": {
      "application/vnd.jupyter.widget-view+json": {
       "model_id": "44d69335248e464eb33865d9989bd866",
       "version_major": 2,
       "version_minor": 0
      },
      "text/plain": [
       "HBox(children=(IntProgress(value=0, description='completed songs in epoch 153', max=10, style=ProgressStyle(de…"
      ]
     },
     "metadata": {},
     "output_type": "display_data"
    },
    {
     "name": "stdout",
     "output_type": "stream",
     "text": [
      "\n"
     ]
    },
    {
     "data": {
      "application/vnd.jupyter.widget-view+json": {
       "model_id": "41e52a2cf41a49e38801851a1053b753",
       "version_major": 2,
       "version_minor": 0
      },
      "text/plain": [
       "HBox(children=(IntProgress(value=0, description='completed songs in epoch 154', max=10, style=ProgressStyle(de…"
      ]
     },
     "metadata": {},
     "output_type": "display_data"
    },
    {
     "name": "stdout",
     "output_type": "stream",
     "text": [
      "\n"
     ]
    },
    {
     "data": {
      "application/vnd.jupyter.widget-view+json": {
       "model_id": "cf3f2d1294ea4c2aba7d5bc833ec7bcd",
       "version_major": 2,
       "version_minor": 0
      },
      "text/plain": [
       "HBox(children=(IntProgress(value=0, description='completed songs in epoch 155', max=10, style=ProgressStyle(de…"
      ]
     },
     "metadata": {},
     "output_type": "display_data"
    },
    {
     "name": "stdout",
     "output_type": "stream",
     "text": [
      "\n"
     ]
    },
    {
     "data": {
      "application/vnd.jupyter.widget-view+json": {
       "model_id": "4611ddb950114f3faff47c33235af4f8",
       "version_major": 2,
       "version_minor": 0
      },
      "text/plain": [
       "HBox(children=(IntProgress(value=0, description='completed songs in epoch 156', max=10, style=ProgressStyle(de…"
      ]
     },
     "metadata": {},
     "output_type": "display_data"
    },
    {
     "name": "stdout",
     "output_type": "stream",
     "text": [
      "\n"
     ]
    },
    {
     "data": {
      "application/vnd.jupyter.widget-view+json": {
       "model_id": "e39713be9fe942b38467cf424e258fde",
       "version_major": 2,
       "version_minor": 0
      },
      "text/plain": [
       "HBox(children=(IntProgress(value=0, description='completed songs in epoch 157', max=10, style=ProgressStyle(de…"
      ]
     },
     "metadata": {},
     "output_type": "display_data"
    },
    {
     "name": "stdout",
     "output_type": "stream",
     "text": [
      "\n"
     ]
    },
    {
     "data": {
      "application/vnd.jupyter.widget-view+json": {
       "model_id": "68656dd4ef8a4f98bb77e775633d93f3",
       "version_major": 2,
       "version_minor": 0
      },
      "text/plain": [
       "HBox(children=(IntProgress(value=0, description='completed songs in epoch 158', max=10, style=ProgressStyle(de…"
      ]
     },
     "metadata": {},
     "output_type": "display_data"
    },
    {
     "name": "stdout",
     "output_type": "stream",
     "text": [
      "\n"
     ]
    },
    {
     "data": {
      "application/vnd.jupyter.widget-view+json": {
       "model_id": "1ed74fb9bbc94b919c2dc23f6acb7861",
       "version_major": 2,
       "version_minor": 0
      },
      "text/plain": [
       "HBox(children=(IntProgress(value=0, description='completed songs in epoch 159', max=10, style=ProgressStyle(de…"
      ]
     },
     "metadata": {},
     "output_type": "display_data"
    },
    {
     "name": "stdout",
     "output_type": "stream",
     "text": [
      "\n"
     ]
    },
    {
     "data": {
      "application/vnd.jupyter.widget-view+json": {
       "model_id": "d31ae07501314ae09a3e74ece453bf6d",
       "version_major": 2,
       "version_minor": 0
      },
      "text/plain": [
       "HBox(children=(IntProgress(value=0, description='completed songs in epoch 160', max=10, style=ProgressStyle(de…"
      ]
     },
     "metadata": {},
     "output_type": "display_data"
    },
    {
     "name": "stdout",
     "output_type": "stream",
     "text": [
      "\n"
     ]
    },
    {
     "data": {
      "application/vnd.jupyter.widget-view+json": {
       "model_id": "34251fb561794247ba7c25897985be9b",
       "version_major": 2,
       "version_minor": 0
      },
      "text/plain": [
       "HBox(children=(IntProgress(value=0, description='completed songs in epoch 161', max=10, style=ProgressStyle(de…"
      ]
     },
     "metadata": {},
     "output_type": "display_data"
    },
    {
     "name": "stdout",
     "output_type": "stream",
     "text": [
      "\n"
     ]
    },
    {
     "data": {
      "application/vnd.jupyter.widget-view+json": {
       "model_id": "47205c0f30da4e91be8b46c80cc7c446",
       "version_major": 2,
       "version_minor": 0
      },
      "text/plain": [
       "HBox(children=(IntProgress(value=0, description='completed songs in epoch 162', max=10, style=ProgressStyle(de…"
      ]
     },
     "metadata": {},
     "output_type": "display_data"
    },
    {
     "name": "stdout",
     "output_type": "stream",
     "text": [
      "\n"
     ]
    },
    {
     "data": {
      "application/vnd.jupyter.widget-view+json": {
       "model_id": "b7d98c0e45e943cc9845c01a626be7a6",
       "version_major": 2,
       "version_minor": 0
      },
      "text/plain": [
       "HBox(children=(IntProgress(value=0, description='completed songs in epoch 163', max=10, style=ProgressStyle(de…"
      ]
     },
     "metadata": {},
     "output_type": "display_data"
    },
    {
     "name": "stdout",
     "output_type": "stream",
     "text": [
      "\n"
     ]
    },
    {
     "data": {
      "application/vnd.jupyter.widget-view+json": {
       "model_id": "98ebcfd8f3d44430977643585442c734",
       "version_major": 2,
       "version_minor": 0
      },
      "text/plain": [
       "HBox(children=(IntProgress(value=0, description='completed songs in epoch 164', max=10, style=ProgressStyle(de…"
      ]
     },
     "metadata": {},
     "output_type": "display_data"
    },
    {
     "name": "stdout",
     "output_type": "stream",
     "text": [
      "\n"
     ]
    },
    {
     "data": {
      "application/vnd.jupyter.widget-view+json": {
       "model_id": "515a3336b978476bbf95d103a9b78540",
       "version_major": 2,
       "version_minor": 0
      },
      "text/plain": [
       "HBox(children=(IntProgress(value=0, description='completed songs in epoch 165', max=10, style=ProgressStyle(de…"
      ]
     },
     "metadata": {},
     "output_type": "display_data"
    },
    {
     "name": "stdout",
     "output_type": "stream",
     "text": [
      "\n"
     ]
    },
    {
     "data": {
      "application/vnd.jupyter.widget-view+json": {
       "model_id": "655c79127aff491aac6b213f1aa5cb20",
       "version_major": 2,
       "version_minor": 0
      },
      "text/plain": [
       "HBox(children=(IntProgress(value=0, description='completed songs in epoch 166', max=10, style=ProgressStyle(de…"
      ]
     },
     "metadata": {},
     "output_type": "display_data"
    },
    {
     "name": "stdout",
     "output_type": "stream",
     "text": [
      "\n"
     ]
    },
    {
     "data": {
      "application/vnd.jupyter.widget-view+json": {
       "model_id": "737527679d8a493489bfa7877b8fd35c",
       "version_major": 2,
       "version_minor": 0
      },
      "text/plain": [
       "HBox(children=(IntProgress(value=0, description='completed songs in epoch 167', max=10, style=ProgressStyle(de…"
      ]
     },
     "metadata": {},
     "output_type": "display_data"
    },
    {
     "name": "stdout",
     "output_type": "stream",
     "text": [
      "\n"
     ]
    },
    {
     "data": {
      "application/vnd.jupyter.widget-view+json": {
       "model_id": "a63ac30882244582ac5ea3105ce67705",
       "version_major": 2,
       "version_minor": 0
      },
      "text/plain": [
       "HBox(children=(IntProgress(value=0, description='completed songs in epoch 168', max=10, style=ProgressStyle(de…"
      ]
     },
     "metadata": {},
     "output_type": "display_data"
    },
    {
     "name": "stdout",
     "output_type": "stream",
     "text": [
      "\n"
     ]
    },
    {
     "data": {
      "application/vnd.jupyter.widget-view+json": {
       "model_id": "d6c7847a82794aee838dde07933e4d94",
       "version_major": 2,
       "version_minor": 0
      },
      "text/plain": [
       "HBox(children=(IntProgress(value=0, description='completed songs in epoch 169', max=10, style=ProgressStyle(de…"
      ]
     },
     "metadata": {},
     "output_type": "display_data"
    },
    {
     "name": "stdout",
     "output_type": "stream",
     "text": [
      "\n"
     ]
    },
    {
     "data": {
      "application/vnd.jupyter.widget-view+json": {
       "model_id": "cf7876e9e42b4569b3e73f6a7e84fde2",
       "version_major": 2,
       "version_minor": 0
      },
      "text/plain": [
       "HBox(children=(IntProgress(value=0, description='completed songs in epoch 170', max=10, style=ProgressStyle(de…"
      ]
     },
     "metadata": {},
     "output_type": "display_data"
    },
    {
     "name": "stdout",
     "output_type": "stream",
     "text": [
      "\n"
     ]
    },
    {
     "data": {
      "application/vnd.jupyter.widget-view+json": {
       "model_id": "9d0858ca1c524baa9ca19818b20a6d34",
       "version_major": 2,
       "version_minor": 0
      },
      "text/plain": [
       "HBox(children=(IntProgress(value=0, description='completed songs in epoch 171', max=10, style=ProgressStyle(de…"
      ]
     },
     "metadata": {},
     "output_type": "display_data"
    },
    {
     "name": "stdout",
     "output_type": "stream",
     "text": [
      "\n"
     ]
    },
    {
     "data": {
      "application/vnd.jupyter.widget-view+json": {
       "model_id": "36651068003948948be154ed5810d34d",
       "version_major": 2,
       "version_minor": 0
      },
      "text/plain": [
       "HBox(children=(IntProgress(value=0, description='completed songs in epoch 172', max=10, style=ProgressStyle(de…"
      ]
     },
     "metadata": {},
     "output_type": "display_data"
    },
    {
     "name": "stdout",
     "output_type": "stream",
     "text": [
      "\n"
     ]
    },
    {
     "data": {
      "application/vnd.jupyter.widget-view+json": {
       "model_id": "77fca2cee8664485820d86916e97ee2b",
       "version_major": 2,
       "version_minor": 0
      },
      "text/plain": [
       "HBox(children=(IntProgress(value=0, description='completed songs in epoch 173', max=10, style=ProgressStyle(de…"
      ]
     },
     "metadata": {},
     "output_type": "display_data"
    },
    {
     "name": "stdout",
     "output_type": "stream",
     "text": [
      "\n"
     ]
    },
    {
     "data": {
      "application/vnd.jupyter.widget-view+json": {
       "model_id": "ea7e7d3ba5eb4ee7a92f0575cc561c02",
       "version_major": 2,
       "version_minor": 0
      },
      "text/plain": [
       "HBox(children=(IntProgress(value=0, description='completed songs in epoch 174', max=10, style=ProgressStyle(de…"
      ]
     },
     "metadata": {},
     "output_type": "display_data"
    },
    {
     "name": "stdout",
     "output_type": "stream",
     "text": [
      "\n"
     ]
    },
    {
     "data": {
      "application/vnd.jupyter.widget-view+json": {
       "model_id": "1fcad6239b9044a3a0a6eb3c178b37eb",
       "version_major": 2,
       "version_minor": 0
      },
      "text/plain": [
       "HBox(children=(IntProgress(value=0, description='completed songs in epoch 175', max=10, style=ProgressStyle(de…"
      ]
     },
     "metadata": {},
     "output_type": "display_data"
    },
    {
     "name": "stdout",
     "output_type": "stream",
     "text": [
      "\n"
     ]
    },
    {
     "data": {
      "application/vnd.jupyter.widget-view+json": {
       "model_id": "cf9a31fc11174e7887749a82e90085b5",
       "version_major": 2,
       "version_minor": 0
      },
      "text/plain": [
       "HBox(children=(IntProgress(value=0, description='completed songs in epoch 176', max=10, style=ProgressStyle(de…"
      ]
     },
     "metadata": {},
     "output_type": "display_data"
    },
    {
     "name": "stdout",
     "output_type": "stream",
     "text": [
      "\n"
     ]
    },
    {
     "data": {
      "application/vnd.jupyter.widget-view+json": {
       "model_id": "65401681438f4914b5362b5933939d51",
       "version_major": 2,
       "version_minor": 0
      },
      "text/plain": [
       "HBox(children=(IntProgress(value=0, description='completed songs in epoch 177', max=10, style=ProgressStyle(de…"
      ]
     },
     "metadata": {},
     "output_type": "display_data"
    },
    {
     "name": "stdout",
     "output_type": "stream",
     "text": [
      "\n"
     ]
    },
    {
     "data": {
      "application/vnd.jupyter.widget-view+json": {
       "model_id": "974230b7ce754c35a281c5b18f07b2ab",
       "version_major": 2,
       "version_minor": 0
      },
      "text/plain": [
       "HBox(children=(IntProgress(value=0, description='completed songs in epoch 178', max=10, style=ProgressStyle(de…"
      ]
     },
     "metadata": {},
     "output_type": "display_data"
    },
    {
     "name": "stdout",
     "output_type": "stream",
     "text": [
      "\n"
     ]
    },
    {
     "data": {
      "application/vnd.jupyter.widget-view+json": {
       "model_id": "4c20aef60e40479bb9cf7a0ca71caf0a",
       "version_major": 2,
       "version_minor": 0
      },
      "text/plain": [
       "HBox(children=(IntProgress(value=0, description='completed songs in epoch 179', max=10, style=ProgressStyle(de…"
      ]
     },
     "metadata": {},
     "output_type": "display_data"
    },
    {
     "name": "stdout",
     "output_type": "stream",
     "text": [
      "\n"
     ]
    },
    {
     "data": {
      "application/vnd.jupyter.widget-view+json": {
       "model_id": "a1424d3fd0c04dbeb257784581b47526",
       "version_major": 2,
       "version_minor": 0
      },
      "text/plain": [
       "HBox(children=(IntProgress(value=0, description='completed songs in epoch 180', max=10, style=ProgressStyle(de…"
      ]
     },
     "metadata": {},
     "output_type": "display_data"
    },
    {
     "name": "stdout",
     "output_type": "stream",
     "text": [
      "\n"
     ]
    },
    {
     "data": {
      "application/vnd.jupyter.widget-view+json": {
       "model_id": "ec46cf0a1aaa4dd9a2a7ce75400570a8",
       "version_major": 2,
       "version_minor": 0
      },
      "text/plain": [
       "HBox(children=(IntProgress(value=0, description='completed songs in epoch 181', max=10, style=ProgressStyle(de…"
      ]
     },
     "metadata": {},
     "output_type": "display_data"
    },
    {
     "name": "stdout",
     "output_type": "stream",
     "text": [
      "\n"
     ]
    },
    {
     "data": {
      "application/vnd.jupyter.widget-view+json": {
       "model_id": "06a46a01d2944420a8497b0e7e4addba",
       "version_major": 2,
       "version_minor": 0
      },
      "text/plain": [
       "HBox(children=(IntProgress(value=0, description='completed songs in epoch 182', max=10, style=ProgressStyle(de…"
      ]
     },
     "metadata": {},
     "output_type": "display_data"
    },
    {
     "name": "stdout",
     "output_type": "stream",
     "text": [
      "\n"
     ]
    },
    {
     "data": {
      "application/vnd.jupyter.widget-view+json": {
       "model_id": "487884e3c1944fc898c15a1aba5282c7",
       "version_major": 2,
       "version_minor": 0
      },
      "text/plain": [
       "HBox(children=(IntProgress(value=0, description='completed songs in epoch 183', max=10, style=ProgressStyle(de…"
      ]
     },
     "metadata": {},
     "output_type": "display_data"
    },
    {
     "name": "stdout",
     "output_type": "stream",
     "text": [
      "\n"
     ]
    },
    {
     "data": {
      "application/vnd.jupyter.widget-view+json": {
       "model_id": "bf2f336c1c4a4e0aa6da80175fd9d3ef",
       "version_major": 2,
       "version_minor": 0
      },
      "text/plain": [
       "HBox(children=(IntProgress(value=0, description='completed songs in epoch 184', max=10, style=ProgressStyle(de…"
      ]
     },
     "metadata": {},
     "output_type": "display_data"
    },
    {
     "name": "stdout",
     "output_type": "stream",
     "text": [
      "\n"
     ]
    },
    {
     "data": {
      "application/vnd.jupyter.widget-view+json": {
       "model_id": "0104f5ed30f64dc29dba9ec4b7527d28",
       "version_major": 2,
       "version_minor": 0
      },
      "text/plain": [
       "HBox(children=(IntProgress(value=0, description='completed songs in epoch 185', max=10, style=ProgressStyle(de…"
      ]
     },
     "metadata": {},
     "output_type": "display_data"
    },
    {
     "name": "stdout",
     "output_type": "stream",
     "text": [
      "\n"
     ]
    },
    {
     "data": {
      "application/vnd.jupyter.widget-view+json": {
       "model_id": "3cc8558f90bc4373bf6cbef65ac50bcc",
       "version_major": 2,
       "version_minor": 0
      },
      "text/plain": [
       "HBox(children=(IntProgress(value=0, description='completed songs in epoch 186', max=10, style=ProgressStyle(de…"
      ]
     },
     "metadata": {},
     "output_type": "display_data"
    },
    {
     "name": "stdout",
     "output_type": "stream",
     "text": [
      "\n"
     ]
    },
    {
     "data": {
      "application/vnd.jupyter.widget-view+json": {
       "model_id": "1b795b09d4694435b894f79665718689",
       "version_major": 2,
       "version_minor": 0
      },
      "text/plain": [
       "HBox(children=(IntProgress(value=0, description='completed songs in epoch 187', max=10, style=ProgressStyle(de…"
      ]
     },
     "metadata": {},
     "output_type": "display_data"
    },
    {
     "name": "stdout",
     "output_type": "stream",
     "text": [
      "\n"
     ]
    },
    {
     "data": {
      "application/vnd.jupyter.widget-view+json": {
       "model_id": "36340d793a1f408b98cd0739617614f5",
       "version_major": 2,
       "version_minor": 0
      },
      "text/plain": [
       "HBox(children=(IntProgress(value=0, description='completed songs in epoch 188', max=10, style=ProgressStyle(de…"
      ]
     },
     "metadata": {},
     "output_type": "display_data"
    },
    {
     "name": "stdout",
     "output_type": "stream",
     "text": [
      "\n"
     ]
    },
    {
     "data": {
      "application/vnd.jupyter.widget-view+json": {
       "model_id": "379ff459256c4130944b46690c5e1759",
       "version_major": 2,
       "version_minor": 0
      },
      "text/plain": [
       "HBox(children=(IntProgress(value=0, description='completed songs in epoch 189', max=10, style=ProgressStyle(de…"
      ]
     },
     "metadata": {},
     "output_type": "display_data"
    },
    {
     "name": "stdout",
     "output_type": "stream",
     "text": [
      "\n"
     ]
    },
    {
     "data": {
      "application/vnd.jupyter.widget-view+json": {
       "model_id": "8eb2b40be439407c89a86cf302bc44c6",
       "version_major": 2,
       "version_minor": 0
      },
      "text/plain": [
       "HBox(children=(IntProgress(value=0, description='completed songs in epoch 190', max=10, style=ProgressStyle(de…"
      ]
     },
     "metadata": {},
     "output_type": "display_data"
    },
    {
     "name": "stdout",
     "output_type": "stream",
     "text": [
      "\n"
     ]
    },
    {
     "data": {
      "application/vnd.jupyter.widget-view+json": {
       "model_id": "e668bb4c287e446bb086095e5a7e9b59",
       "version_major": 2,
       "version_minor": 0
      },
      "text/plain": [
       "HBox(children=(IntProgress(value=0, description='completed songs in epoch 191', max=10, style=ProgressStyle(de…"
      ]
     },
     "metadata": {},
     "output_type": "display_data"
    },
    {
     "name": "stdout",
     "output_type": "stream",
     "text": [
      "\n"
     ]
    },
    {
     "data": {
      "application/vnd.jupyter.widget-view+json": {
       "model_id": "6e5f37982c3f4e9884db42bf8b742ace",
       "version_major": 2,
       "version_minor": 0
      },
      "text/plain": [
       "HBox(children=(IntProgress(value=0, description='completed songs in epoch 192', max=10, style=ProgressStyle(de…"
      ]
     },
     "metadata": {},
     "output_type": "display_data"
    },
    {
     "name": "stdout",
     "output_type": "stream",
     "text": [
      "\n"
     ]
    },
    {
     "data": {
      "application/vnd.jupyter.widget-view+json": {
       "model_id": "c30c77a7c6ae4412925a368a8c825b1c",
       "version_major": 2,
       "version_minor": 0
      },
      "text/plain": [
       "HBox(children=(IntProgress(value=0, description='completed songs in epoch 193', max=10, style=ProgressStyle(de…"
      ]
     },
     "metadata": {},
     "output_type": "display_data"
    },
    {
     "name": "stdout",
     "output_type": "stream",
     "text": [
      "\n"
     ]
    },
    {
     "data": {
      "application/vnd.jupyter.widget-view+json": {
       "model_id": "3273657bc5a349c7ae8330c23f8b3ce3",
       "version_major": 2,
       "version_minor": 0
      },
      "text/plain": [
       "HBox(children=(IntProgress(value=0, description='completed songs in epoch 194', max=10, style=ProgressStyle(de…"
      ]
     },
     "metadata": {},
     "output_type": "display_data"
    },
    {
     "name": "stdout",
     "output_type": "stream",
     "text": [
      "\n"
     ]
    },
    {
     "data": {
      "application/vnd.jupyter.widget-view+json": {
       "model_id": "9092a034750148cbbd98c6ddbf8ffd80",
       "version_major": 2,
       "version_minor": 0
      },
      "text/plain": [
       "HBox(children=(IntProgress(value=0, description='completed songs in epoch 195', max=10, style=ProgressStyle(de…"
      ]
     },
     "metadata": {},
     "output_type": "display_data"
    },
    {
     "name": "stdout",
     "output_type": "stream",
     "text": [
      "\n"
     ]
    },
    {
     "data": {
      "application/vnd.jupyter.widget-view+json": {
       "model_id": "f69a3c8a0533482b8af701de8e42bb30",
       "version_major": 2,
       "version_minor": 0
      },
      "text/plain": [
       "HBox(children=(IntProgress(value=0, description='completed songs in epoch 196', max=10, style=ProgressStyle(de…"
      ]
     },
     "metadata": {},
     "output_type": "display_data"
    },
    {
     "name": "stdout",
     "output_type": "stream",
     "text": [
      "\n"
     ]
    },
    {
     "data": {
      "application/vnd.jupyter.widget-view+json": {
       "model_id": "8e2ed26bb27a43f98b2e14d6f2bc7714",
       "version_major": 2,
       "version_minor": 0
      },
      "text/plain": [
       "HBox(children=(IntProgress(value=0, description='completed songs in epoch 197', max=10, style=ProgressStyle(de…"
      ]
     },
     "metadata": {},
     "output_type": "display_data"
    },
    {
     "name": "stdout",
     "output_type": "stream",
     "text": [
      "\n"
     ]
    },
    {
     "data": {
      "application/vnd.jupyter.widget-view+json": {
       "model_id": "154934530d4145199cc5f832aeec38ed",
       "version_major": 2,
       "version_minor": 0
      },
      "text/plain": [
       "HBox(children=(IntProgress(value=0, description='completed songs in epoch 198', max=10, style=ProgressStyle(de…"
      ]
     },
     "metadata": {},
     "output_type": "display_data"
    },
    {
     "name": "stdout",
     "output_type": "stream",
     "text": [
      "\n"
     ]
    },
    {
     "data": {
      "application/vnd.jupyter.widget-view+json": {
       "model_id": "069983526e314c938ddc2812035163dd",
       "version_major": 2,
       "version_minor": 0
      },
      "text/plain": [
       "HBox(children=(IntProgress(value=0, description='completed songs in epoch 199', max=10, style=ProgressStyle(de…"
      ]
     },
     "metadata": {},
     "output_type": "display_data"
    },
    {
     "name": "stdout",
     "output_type": "stream",
     "text": [
      "\n"
     ]
    },
    {
     "data": {
      "application/vnd.jupyter.widget-view+json": {
       "model_id": "cbe26afee5c34419af2fa5b7d39277bd",
       "version_major": 2,
       "version_minor": 0
      },
      "text/plain": [
       "HBox(children=(IntProgress(value=0, description='completed songs in epoch 200', max=10, style=ProgressStyle(de…"
      ]
     },
     "metadata": {},
     "output_type": "display_data"
    },
    {
     "name": "stdout",
     "output_type": "stream",
     "text": [
      "\n",
      "\n"
     ]
    }
   ],
   "source": [
    "from torch import optim\n",
    "import matplotlib.pyplot as plt\n",
    "\n",
    "# ---- variables\n",
    "seq_len = 50 \n",
    "EPOCHS = 200-13\n",
    "BATCH_SONG = 1 #16\n",
    "BATCH_NNET_SIZE = 128 \n",
    "TOTAL_SONGS = len(sampled_200_midi)\n",
    "FRAME_PER_SECOND = 5\n",
    "DATE = 20191023\n",
    "\n",
    "# ---- initialize model, states, loss fcn, optimizer \n",
    "hn = torch.zeros(num_layers*num_directions, batch_size, hidden_size,dtype=torch.float32)\n",
    "cn = torch.zeros(num_layers*num_directions, batch_size, hidden_size,dtype=torch.float32)\n",
    "model = our_LSTM(hn,cn)\n",
    "\n",
    "# -- load trained model\n",
    "START_EPOCH = 13\n",
    "model.load_state_dict(torch.load(f'lstm_20191023_2layer_100hidden_ep{START_EPOCH}'))\n",
    "\n",
    "loss_fn = torch.nn.CrossEntropyLoss()\n",
    "optimizer = optim.RMSprop(model.parameters(), lr=0.0001)\n",
    "\n",
    "# ---- live plotting\n",
    "%matplotlib notebook \n",
    "fig, axes = plt.subplots(1,1)\n",
    "plt.ion()\n",
    "fig.show()\n",
    "fig.canvas.draw()\n",
    "loss_vec = []\n",
    "loss_vec = np.load(f'loss_20191023_2layer_100hiddenep{START_EPOCH}.npy', allow_pickle=True).tolist()\n",
    "\n",
    "\n",
    "\n",
    "\n",
    "# ---- training loop\n",
    "for epoch in tqdm_notebook(range(START_EPOCH,START_EPOCH+EPOCHS), desc='epoch'):\n",
    "    batch_song = BATCH_SONG\n",
    "    frame_per_second = FRAME_PER_SECOND\n",
    "    shuffle(sampled_200_midi)\n",
    "        \n",
    "    for i in tqdm_notebook(range(0,len(sampled_200_midi),BATCH_SONG), desc=f'completed songs in epoch {epoch+1}'):\n",
    "        \n",
    "        # -- prepare data\n",
    "        inputs_nnet_large, outputs_nnet_large = token.generate_batch_song(\n",
    "                sampled_200_midi, batch_song, start_index=i, fs=frame_per_second, \n",
    "                seq_len=seq_len, use_tqdm=False)\n",
    "        trans_in = note_tokenizer.transform(inputs_nnet_large)\n",
    "        trans_out = note_tokenizer.transform(outputs_nnet_large)\n",
    "        trans_out = trans_out - 1\n",
    "        \n",
    "        # -- reset hidden states every song\n",
    "        model.hn.detach_()\n",
    "        model.cn.detach_()\n",
    "        \n",
    "        # -- train on 1 song \n",
    "        counter = 0\n",
    "        for j in range(0,len(trans_in)-BATCH_NNET_SIZE,BATCH_NNET_SIZE):\n",
    "            counter += 1 \n",
    "            input_tensor = trans_in[j:j+BATCH_NNET_SIZE]\n",
    "            target_tensor = trans_out[j:j+BATCH_NNET_SIZE]\n",
    "\n",
    "            input_tensor = torch.tensor(input_tensor,dtype=torch.float32)\n",
    "            input_tensor = input_tensor[None,:,:] # Should be (seq_len, batch, input_size)\n",
    "            input_tensor = input_tensor.permute(1,0,2)\n",
    "            target_tensor = torch.tensor(target_tensor,dtype=torch.long).view(-1)\n",
    "            pred, hn, cn = model(input_tensor)\n",
    "            loss = loss_fn(pred,target_tensor)\n",
    "            loss.backward(retain_graph=True)\n",
    "            optimizer.step()\n",
    "            optimizer.zero_grad()\n",
    "        \n",
    "        # -- plot loss after every song\n",
    "        loss_vec.append(loss.data)\n",
    "        axes.clear()\n",
    "        axes.plot(loss_vec)\n",
    "        axes.set_xlabel('Nbr of Songs')\n",
    "        axes.set_ylabel('Loss')\n",
    "        plt.legend([\"Training Loss\"])\n",
    "        fig.canvas.draw()\n",
    "    \n",
    "    # -- save model and loss vector every epoch\n",
    "    torch.save(model.state_dict(), f'lstm_{DATE}_{num_layers}layer_{hidden_size}hidden_ep{epoch+1}')\n",
    "    np.save(f'loss_{DATE}_{num_layers}layer_{hidden_size}hiddenep{epoch+1}', np.array(loss_vec))\n",
    "    \n",
    "    # -- reset hidden states every song\n",
    "    model.hn.detach_()\n",
    "    model.cn.detach_()\n",
    "\n",
    "\n",
    "\n"
   ]
  },
  {
   "cell_type": "code",
   "execution_count": 6,
   "metadata": {},
   "outputs": [],
   "source": [
    "# ---- save model and loss vector\n",
    "torch.save(model.state_dict(), f'lstm_{DATE}_{num_layers}layer_{hidden_size}hidden_ep{15}_3')\n",
    "np.save(f'loss_{DATE}_{num_layers}layer_{hidden_size}hiddenep{15}_3', np.array(loss_vec))"
   ]
  },
  {
   "cell_type": "code",
   "execution_count": 232,
   "metadata": {},
   "outputs": [
    {
     "data": {
      "application/javascript": [
       "/* Put everything inside the global mpl namespace */\n",
       "window.mpl = {};\n",
       "\n",
       "\n",
       "mpl.get_websocket_type = function() {\n",
       "    if (typeof(WebSocket) !== 'undefined') {\n",
       "        return WebSocket;\n",
       "    } else if (typeof(MozWebSocket) !== 'undefined') {\n",
       "        return MozWebSocket;\n",
       "    } else {\n",
       "        alert('Your browser does not have WebSocket support. ' +\n",
       "              'Please try Chrome, Safari or Firefox ≥ 6. ' +\n",
       "              'Firefox 4 and 5 are also supported but you ' +\n",
       "              'have to enable WebSockets in about:config.');\n",
       "    };\n",
       "}\n",
       "\n",
       "mpl.figure = function(figure_id, websocket, ondownload, parent_element) {\n",
       "    this.id = figure_id;\n",
       "\n",
       "    this.ws = websocket;\n",
       "\n",
       "    this.supports_binary = (this.ws.binaryType != undefined);\n",
       "\n",
       "    if (!this.supports_binary) {\n",
       "        var warnings = document.getElementById(\"mpl-warnings\");\n",
       "        if (warnings) {\n",
       "            warnings.style.display = 'block';\n",
       "            warnings.textContent = (\n",
       "                \"This browser does not support binary websocket messages. \" +\n",
       "                    \"Performance may be slow.\");\n",
       "        }\n",
       "    }\n",
       "\n",
       "    this.imageObj = new Image();\n",
       "\n",
       "    this.context = undefined;\n",
       "    this.message = undefined;\n",
       "    this.canvas = undefined;\n",
       "    this.rubberband_canvas = undefined;\n",
       "    this.rubberband_context = undefined;\n",
       "    this.format_dropdown = undefined;\n",
       "\n",
       "    this.image_mode = 'full';\n",
       "\n",
       "    this.root = $('<div/>');\n",
       "    this._root_extra_style(this.root)\n",
       "    this.root.attr('style', 'display: inline-block');\n",
       "\n",
       "    $(parent_element).append(this.root);\n",
       "\n",
       "    this._init_header(this);\n",
       "    this._init_canvas(this);\n",
       "    this._init_toolbar(this);\n",
       "\n",
       "    var fig = this;\n",
       "\n",
       "    this.waiting = false;\n",
       "\n",
       "    this.ws.onopen =  function () {\n",
       "            fig.send_message(\"supports_binary\", {value: fig.supports_binary});\n",
       "            fig.send_message(\"send_image_mode\", {});\n",
       "            if (mpl.ratio != 1) {\n",
       "                fig.send_message(\"set_dpi_ratio\", {'dpi_ratio': mpl.ratio});\n",
       "            }\n",
       "            fig.send_message(\"refresh\", {});\n",
       "        }\n",
       "\n",
       "    this.imageObj.onload = function() {\n",
       "            if (fig.image_mode == 'full') {\n",
       "                // Full images could contain transparency (where diff images\n",
       "                // almost always do), so we need to clear the canvas so that\n",
       "                // there is no ghosting.\n",
       "                fig.context.clearRect(0, 0, fig.canvas.width, fig.canvas.height);\n",
       "            }\n",
       "            fig.context.drawImage(fig.imageObj, 0, 0);\n",
       "        };\n",
       "\n",
       "    this.imageObj.onunload = function() {\n",
       "        fig.ws.close();\n",
       "    }\n",
       "\n",
       "    this.ws.onmessage = this._make_on_message_function(this);\n",
       "\n",
       "    this.ondownload = ondownload;\n",
       "}\n",
       "\n",
       "mpl.figure.prototype._init_header = function() {\n",
       "    var titlebar = $(\n",
       "        '<div class=\"ui-dialog-titlebar ui-widget-header ui-corner-all ' +\n",
       "        'ui-helper-clearfix\"/>');\n",
       "    var titletext = $(\n",
       "        '<div class=\"ui-dialog-title\" style=\"width: 100%; ' +\n",
       "        'text-align: center; padding: 3px;\"/>');\n",
       "    titlebar.append(titletext)\n",
       "    this.root.append(titlebar);\n",
       "    this.header = titletext[0];\n",
       "}\n",
       "\n",
       "\n",
       "\n",
       "mpl.figure.prototype._canvas_extra_style = function(canvas_div) {\n",
       "\n",
       "}\n",
       "\n",
       "\n",
       "mpl.figure.prototype._root_extra_style = function(canvas_div) {\n",
       "\n",
       "}\n",
       "\n",
       "mpl.figure.prototype._init_canvas = function() {\n",
       "    var fig = this;\n",
       "\n",
       "    var canvas_div = $('<div/>');\n",
       "\n",
       "    canvas_div.attr('style', 'position: relative; clear: both; outline: 0');\n",
       "\n",
       "    function canvas_keyboard_event(event) {\n",
       "        return fig.key_event(event, event['data']);\n",
       "    }\n",
       "\n",
       "    canvas_div.keydown('key_press', canvas_keyboard_event);\n",
       "    canvas_div.keyup('key_release', canvas_keyboard_event);\n",
       "    this.canvas_div = canvas_div\n",
       "    this._canvas_extra_style(canvas_div)\n",
       "    this.root.append(canvas_div);\n",
       "\n",
       "    var canvas = $('<canvas/>');\n",
       "    canvas.addClass('mpl-canvas');\n",
       "    canvas.attr('style', \"left: 0; top: 0; z-index: 0; outline: 0\")\n",
       "\n",
       "    this.canvas = canvas[0];\n",
       "    this.context = canvas[0].getContext(\"2d\");\n",
       "\n",
       "    var backingStore = this.context.backingStorePixelRatio ||\n",
       "\tthis.context.webkitBackingStorePixelRatio ||\n",
       "\tthis.context.mozBackingStorePixelRatio ||\n",
       "\tthis.context.msBackingStorePixelRatio ||\n",
       "\tthis.context.oBackingStorePixelRatio ||\n",
       "\tthis.context.backingStorePixelRatio || 1;\n",
       "\n",
       "    mpl.ratio = (window.devicePixelRatio || 1) / backingStore;\n",
       "\n",
       "    var rubberband = $('<canvas/>');\n",
       "    rubberband.attr('style', \"position: absolute; left: 0; top: 0; z-index: 1;\")\n",
       "\n",
       "    var pass_mouse_events = true;\n",
       "\n",
       "    canvas_div.resizable({\n",
       "        start: function(event, ui) {\n",
       "            pass_mouse_events = false;\n",
       "        },\n",
       "        resize: function(event, ui) {\n",
       "            fig.request_resize(ui.size.width, ui.size.height);\n",
       "        },\n",
       "        stop: function(event, ui) {\n",
       "            pass_mouse_events = true;\n",
       "            fig.request_resize(ui.size.width, ui.size.height);\n",
       "        },\n",
       "    });\n",
       "\n",
       "    function mouse_event_fn(event) {\n",
       "        if (pass_mouse_events)\n",
       "            return fig.mouse_event(event, event['data']);\n",
       "    }\n",
       "\n",
       "    rubberband.mousedown('button_press', mouse_event_fn);\n",
       "    rubberband.mouseup('button_release', mouse_event_fn);\n",
       "    // Throttle sequential mouse events to 1 every 20ms.\n",
       "    rubberband.mousemove('motion_notify', mouse_event_fn);\n",
       "\n",
       "    rubberband.mouseenter('figure_enter', mouse_event_fn);\n",
       "    rubberband.mouseleave('figure_leave', mouse_event_fn);\n",
       "\n",
       "    canvas_div.on(\"wheel\", function (event) {\n",
       "        event = event.originalEvent;\n",
       "        event['data'] = 'scroll'\n",
       "        if (event.deltaY < 0) {\n",
       "            event.step = 1;\n",
       "        } else {\n",
       "            event.step = -1;\n",
       "        }\n",
       "        mouse_event_fn(event);\n",
       "    });\n",
       "\n",
       "    canvas_div.append(canvas);\n",
       "    canvas_div.append(rubberband);\n",
       "\n",
       "    this.rubberband = rubberband;\n",
       "    this.rubberband_canvas = rubberband[0];\n",
       "    this.rubberband_context = rubberband[0].getContext(\"2d\");\n",
       "    this.rubberband_context.strokeStyle = \"#000000\";\n",
       "\n",
       "    this._resize_canvas = function(width, height) {\n",
       "        // Keep the size of the canvas, canvas container, and rubber band\n",
       "        // canvas in synch.\n",
       "        canvas_div.css('width', width)\n",
       "        canvas_div.css('height', height)\n",
       "\n",
       "        canvas.attr('width', width * mpl.ratio);\n",
       "        canvas.attr('height', height * mpl.ratio);\n",
       "        canvas.attr('style', 'width: ' + width + 'px; height: ' + height + 'px;');\n",
       "\n",
       "        rubberband.attr('width', width);\n",
       "        rubberband.attr('height', height);\n",
       "    }\n",
       "\n",
       "    // Set the figure to an initial 600x600px, this will subsequently be updated\n",
       "    // upon first draw.\n",
       "    this._resize_canvas(600, 600);\n",
       "\n",
       "    // Disable right mouse context menu.\n",
       "    $(this.rubberband_canvas).bind(\"contextmenu\",function(e){\n",
       "        return false;\n",
       "    });\n",
       "\n",
       "    function set_focus () {\n",
       "        canvas.focus();\n",
       "        canvas_div.focus();\n",
       "    }\n",
       "\n",
       "    window.setTimeout(set_focus, 100);\n",
       "}\n",
       "\n",
       "mpl.figure.prototype._init_toolbar = function() {\n",
       "    var fig = this;\n",
       "\n",
       "    var nav_element = $('<div/>');\n",
       "    nav_element.attr('style', 'width: 100%');\n",
       "    this.root.append(nav_element);\n",
       "\n",
       "    // Define a callback function for later on.\n",
       "    function toolbar_event(event) {\n",
       "        return fig.toolbar_button_onclick(event['data']);\n",
       "    }\n",
       "    function toolbar_mouse_event(event) {\n",
       "        return fig.toolbar_button_onmouseover(event['data']);\n",
       "    }\n",
       "\n",
       "    for(var toolbar_ind in mpl.toolbar_items) {\n",
       "        var name = mpl.toolbar_items[toolbar_ind][0];\n",
       "        var tooltip = mpl.toolbar_items[toolbar_ind][1];\n",
       "        var image = mpl.toolbar_items[toolbar_ind][2];\n",
       "        var method_name = mpl.toolbar_items[toolbar_ind][3];\n",
       "\n",
       "        if (!name) {\n",
       "            // put a spacer in here.\n",
       "            continue;\n",
       "        }\n",
       "        var button = $('<button/>');\n",
       "        button.addClass('ui-button ui-widget ui-state-default ui-corner-all ' +\n",
       "                        'ui-button-icon-only');\n",
       "        button.attr('role', 'button');\n",
       "        button.attr('aria-disabled', 'false');\n",
       "        button.click(method_name, toolbar_event);\n",
       "        button.mouseover(tooltip, toolbar_mouse_event);\n",
       "\n",
       "        var icon_img = $('<span/>');\n",
       "        icon_img.addClass('ui-button-icon-primary ui-icon');\n",
       "        icon_img.addClass(image);\n",
       "        icon_img.addClass('ui-corner-all');\n",
       "\n",
       "        var tooltip_span = $('<span/>');\n",
       "        tooltip_span.addClass('ui-button-text');\n",
       "        tooltip_span.html(tooltip);\n",
       "\n",
       "        button.append(icon_img);\n",
       "        button.append(tooltip_span);\n",
       "\n",
       "        nav_element.append(button);\n",
       "    }\n",
       "\n",
       "    var fmt_picker_span = $('<span/>');\n",
       "\n",
       "    var fmt_picker = $('<select/>');\n",
       "    fmt_picker.addClass('mpl-toolbar-option ui-widget ui-widget-content');\n",
       "    fmt_picker_span.append(fmt_picker);\n",
       "    nav_element.append(fmt_picker_span);\n",
       "    this.format_dropdown = fmt_picker[0];\n",
       "\n",
       "    for (var ind in mpl.extensions) {\n",
       "        var fmt = mpl.extensions[ind];\n",
       "        var option = $(\n",
       "            '<option/>', {selected: fmt === mpl.default_extension}).html(fmt);\n",
       "        fmt_picker.append(option);\n",
       "    }\n",
       "\n",
       "    // Add hover states to the ui-buttons\n",
       "    $( \".ui-button\" ).hover(\n",
       "        function() { $(this).addClass(\"ui-state-hover\");},\n",
       "        function() { $(this).removeClass(\"ui-state-hover\");}\n",
       "    );\n",
       "\n",
       "    var status_bar = $('<span class=\"mpl-message\"/>');\n",
       "    nav_element.append(status_bar);\n",
       "    this.message = status_bar[0];\n",
       "}\n",
       "\n",
       "mpl.figure.prototype.request_resize = function(x_pixels, y_pixels) {\n",
       "    // Request matplotlib to resize the figure. Matplotlib will then trigger a resize in the client,\n",
       "    // which will in turn request a refresh of the image.\n",
       "    this.send_message('resize', {'width': x_pixels, 'height': y_pixels});\n",
       "}\n",
       "\n",
       "mpl.figure.prototype.send_message = function(type, properties) {\n",
       "    properties['type'] = type;\n",
       "    properties['figure_id'] = this.id;\n",
       "    this.ws.send(JSON.stringify(properties));\n",
       "}\n",
       "\n",
       "mpl.figure.prototype.send_draw_message = function() {\n",
       "    if (!this.waiting) {\n",
       "        this.waiting = true;\n",
       "        this.ws.send(JSON.stringify({type: \"draw\", figure_id: this.id}));\n",
       "    }\n",
       "}\n",
       "\n",
       "\n",
       "mpl.figure.prototype.handle_save = function(fig, msg) {\n",
       "    var format_dropdown = fig.format_dropdown;\n",
       "    var format = format_dropdown.options[format_dropdown.selectedIndex].value;\n",
       "    fig.ondownload(fig, format);\n",
       "}\n",
       "\n",
       "\n",
       "mpl.figure.prototype.handle_resize = function(fig, msg) {\n",
       "    var size = msg['size'];\n",
       "    if (size[0] != fig.canvas.width || size[1] != fig.canvas.height) {\n",
       "        fig._resize_canvas(size[0], size[1]);\n",
       "        fig.send_message(\"refresh\", {});\n",
       "    };\n",
       "}\n",
       "\n",
       "mpl.figure.prototype.handle_rubberband = function(fig, msg) {\n",
       "    var x0 = msg['x0'] / mpl.ratio;\n",
       "    var y0 = (fig.canvas.height - msg['y0']) / mpl.ratio;\n",
       "    var x1 = msg['x1'] / mpl.ratio;\n",
       "    var y1 = (fig.canvas.height - msg['y1']) / mpl.ratio;\n",
       "    x0 = Math.floor(x0) + 0.5;\n",
       "    y0 = Math.floor(y0) + 0.5;\n",
       "    x1 = Math.floor(x1) + 0.5;\n",
       "    y1 = Math.floor(y1) + 0.5;\n",
       "    var min_x = Math.min(x0, x1);\n",
       "    var min_y = Math.min(y0, y1);\n",
       "    var width = Math.abs(x1 - x0);\n",
       "    var height = Math.abs(y1 - y0);\n",
       "\n",
       "    fig.rubberband_context.clearRect(\n",
       "        0, 0, fig.canvas.width / mpl.ratio, fig.canvas.height / mpl.ratio);\n",
       "\n",
       "    fig.rubberband_context.strokeRect(min_x, min_y, width, height);\n",
       "}\n",
       "\n",
       "mpl.figure.prototype.handle_figure_label = function(fig, msg) {\n",
       "    // Updates the figure title.\n",
       "    fig.header.textContent = msg['label'];\n",
       "}\n",
       "\n",
       "mpl.figure.prototype.handle_cursor = function(fig, msg) {\n",
       "    var cursor = msg['cursor'];\n",
       "    switch(cursor)\n",
       "    {\n",
       "    case 0:\n",
       "        cursor = 'pointer';\n",
       "        break;\n",
       "    case 1:\n",
       "        cursor = 'default';\n",
       "        break;\n",
       "    case 2:\n",
       "        cursor = 'crosshair';\n",
       "        break;\n",
       "    case 3:\n",
       "        cursor = 'move';\n",
       "        break;\n",
       "    }\n",
       "    fig.rubberband_canvas.style.cursor = cursor;\n",
       "}\n",
       "\n",
       "mpl.figure.prototype.handle_message = function(fig, msg) {\n",
       "    fig.message.textContent = msg['message'];\n",
       "}\n",
       "\n",
       "mpl.figure.prototype.handle_draw = function(fig, msg) {\n",
       "    // Request the server to send over a new figure.\n",
       "    fig.send_draw_message();\n",
       "}\n",
       "\n",
       "mpl.figure.prototype.handle_image_mode = function(fig, msg) {\n",
       "    fig.image_mode = msg['mode'];\n",
       "}\n",
       "\n",
       "mpl.figure.prototype.updated_canvas_event = function() {\n",
       "    // Called whenever the canvas gets updated.\n",
       "    this.send_message(\"ack\", {});\n",
       "}\n",
       "\n",
       "// A function to construct a web socket function for onmessage handling.\n",
       "// Called in the figure constructor.\n",
       "mpl.figure.prototype._make_on_message_function = function(fig) {\n",
       "    return function socket_on_message(evt) {\n",
       "        if (evt.data instanceof Blob) {\n",
       "            /* FIXME: We get \"Resource interpreted as Image but\n",
       "             * transferred with MIME type text/plain:\" errors on\n",
       "             * Chrome.  But how to set the MIME type?  It doesn't seem\n",
       "             * to be part of the websocket stream */\n",
       "            evt.data.type = \"image/png\";\n",
       "\n",
       "            /* Free the memory for the previous frames */\n",
       "            if (fig.imageObj.src) {\n",
       "                (window.URL || window.webkitURL).revokeObjectURL(\n",
       "                    fig.imageObj.src);\n",
       "            }\n",
       "\n",
       "            fig.imageObj.src = (window.URL || window.webkitURL).createObjectURL(\n",
       "                evt.data);\n",
       "            fig.updated_canvas_event();\n",
       "            fig.waiting = false;\n",
       "            return;\n",
       "        }\n",
       "        else if (typeof evt.data === 'string' && evt.data.slice(0, 21) == \"data:image/png;base64\") {\n",
       "            fig.imageObj.src = evt.data;\n",
       "            fig.updated_canvas_event();\n",
       "            fig.waiting = false;\n",
       "            return;\n",
       "        }\n",
       "\n",
       "        var msg = JSON.parse(evt.data);\n",
       "        var msg_type = msg['type'];\n",
       "\n",
       "        // Call the  \"handle_{type}\" callback, which takes\n",
       "        // the figure and JSON message as its only arguments.\n",
       "        try {\n",
       "            var callback = fig[\"handle_\" + msg_type];\n",
       "        } catch (e) {\n",
       "            console.log(\"No handler for the '\" + msg_type + \"' message type: \", msg);\n",
       "            return;\n",
       "        }\n",
       "\n",
       "        if (callback) {\n",
       "            try {\n",
       "                // console.log(\"Handling '\" + msg_type + \"' message: \", msg);\n",
       "                callback(fig, msg);\n",
       "            } catch (e) {\n",
       "                console.log(\"Exception inside the 'handler_\" + msg_type + \"' callback:\", e, e.stack, msg);\n",
       "            }\n",
       "        }\n",
       "    };\n",
       "}\n",
       "\n",
       "// from http://stackoverflow.com/questions/1114465/getting-mouse-location-in-canvas\n",
       "mpl.findpos = function(e) {\n",
       "    //this section is from http://www.quirksmode.org/js/events_properties.html\n",
       "    var targ;\n",
       "    if (!e)\n",
       "        e = window.event;\n",
       "    if (e.target)\n",
       "        targ = e.target;\n",
       "    else if (e.srcElement)\n",
       "        targ = e.srcElement;\n",
       "    if (targ.nodeType == 3) // defeat Safari bug\n",
       "        targ = targ.parentNode;\n",
       "\n",
       "    // jQuery normalizes the pageX and pageY\n",
       "    // pageX,Y are the mouse positions relative to the document\n",
       "    // offset() returns the position of the element relative to the document\n",
       "    var x = e.pageX - $(targ).offset().left;\n",
       "    var y = e.pageY - $(targ).offset().top;\n",
       "\n",
       "    return {\"x\": x, \"y\": y};\n",
       "};\n",
       "\n",
       "/*\n",
       " * return a copy of an object with only non-object keys\n",
       " * we need this to avoid circular references\n",
       " * http://stackoverflow.com/a/24161582/3208463\n",
       " */\n",
       "function simpleKeys (original) {\n",
       "  return Object.keys(original).reduce(function (obj, key) {\n",
       "    if (typeof original[key] !== 'object')\n",
       "        obj[key] = original[key]\n",
       "    return obj;\n",
       "  }, {});\n",
       "}\n",
       "\n",
       "mpl.figure.prototype.mouse_event = function(event, name) {\n",
       "    var canvas_pos = mpl.findpos(event)\n",
       "\n",
       "    if (name === 'button_press')\n",
       "    {\n",
       "        this.canvas.focus();\n",
       "        this.canvas_div.focus();\n",
       "    }\n",
       "\n",
       "    var x = canvas_pos.x * mpl.ratio;\n",
       "    var y = canvas_pos.y * mpl.ratio;\n",
       "\n",
       "    this.send_message(name, {x: x, y: y, button: event.button,\n",
       "                             step: event.step,\n",
       "                             guiEvent: simpleKeys(event)});\n",
       "\n",
       "    /* This prevents the web browser from automatically changing to\n",
       "     * the text insertion cursor when the button is pressed.  We want\n",
       "     * to control all of the cursor setting manually through the\n",
       "     * 'cursor' event from matplotlib */\n",
       "    event.preventDefault();\n",
       "    return false;\n",
       "}\n",
       "\n",
       "mpl.figure.prototype._key_event_extra = function(event, name) {\n",
       "    // Handle any extra behaviour associated with a key event\n",
       "}\n",
       "\n",
       "mpl.figure.prototype.key_event = function(event, name) {\n",
       "\n",
       "    // Prevent repeat events\n",
       "    if (name == 'key_press')\n",
       "    {\n",
       "        if (event.which === this._key)\n",
       "            return;\n",
       "        else\n",
       "            this._key = event.which;\n",
       "    }\n",
       "    if (name == 'key_release')\n",
       "        this._key = null;\n",
       "\n",
       "    var value = '';\n",
       "    if (event.ctrlKey && event.which != 17)\n",
       "        value += \"ctrl+\";\n",
       "    if (event.altKey && event.which != 18)\n",
       "        value += \"alt+\";\n",
       "    if (event.shiftKey && event.which != 16)\n",
       "        value += \"shift+\";\n",
       "\n",
       "    value += 'k';\n",
       "    value += event.which.toString();\n",
       "\n",
       "    this._key_event_extra(event, name);\n",
       "\n",
       "    this.send_message(name, {key: value,\n",
       "                             guiEvent: simpleKeys(event)});\n",
       "    return false;\n",
       "}\n",
       "\n",
       "mpl.figure.prototype.toolbar_button_onclick = function(name) {\n",
       "    if (name == 'download') {\n",
       "        this.handle_save(this, null);\n",
       "    } else {\n",
       "        this.send_message(\"toolbar_button\", {name: name});\n",
       "    }\n",
       "};\n",
       "\n",
       "mpl.figure.prototype.toolbar_button_onmouseover = function(tooltip) {\n",
       "    this.message.textContent = tooltip;\n",
       "};\n",
       "mpl.toolbar_items = [[\"Home\", \"Reset original view\", \"fa fa-home icon-home\", \"home\"], [\"Back\", \"Back to previous view\", \"fa fa-arrow-left icon-arrow-left\", \"back\"], [\"Forward\", \"Forward to next view\", \"fa fa-arrow-right icon-arrow-right\", \"forward\"], [\"\", \"\", \"\", \"\"], [\"Pan\", \"Pan axes with left mouse, zoom with right\", \"fa fa-arrows icon-move\", \"pan\"], [\"Zoom\", \"Zoom to rectangle\", \"fa fa-square-o icon-check-empty\", \"zoom\"], [\"\", \"\", \"\", \"\"], [\"Download\", \"Download plot\", \"fa fa-floppy-o icon-save\", \"download\"]];\n",
       "\n",
       "mpl.extensions = [\"eps\", \"jpeg\", \"pdf\", \"png\", \"ps\", \"raw\", \"svg\", \"tif\"];\n",
       "\n",
       "mpl.default_extension = \"png\";var comm_websocket_adapter = function(comm) {\n",
       "    // Create a \"websocket\"-like object which calls the given IPython comm\n",
       "    // object with the appropriate methods. Currently this is a non binary\n",
       "    // socket, so there is still some room for performance tuning.\n",
       "    var ws = {};\n",
       "\n",
       "    ws.close = function() {\n",
       "        comm.close()\n",
       "    };\n",
       "    ws.send = function(m) {\n",
       "        //console.log('sending', m);\n",
       "        comm.send(m);\n",
       "    };\n",
       "    // Register the callback with on_msg.\n",
       "    comm.on_msg(function(msg) {\n",
       "        //console.log('receiving', msg['content']['data'], msg);\n",
       "        // Pass the mpl event to the overridden (by mpl) onmessage function.\n",
       "        ws.onmessage(msg['content']['data'])\n",
       "    });\n",
       "    return ws;\n",
       "}\n",
       "\n",
       "mpl.mpl_figure_comm = function(comm, msg) {\n",
       "    // This is the function which gets called when the mpl process\n",
       "    // starts-up an IPython Comm through the \"matplotlib\" channel.\n",
       "\n",
       "    var id = msg.content.data.id;\n",
       "    // Get hold of the div created by the display call when the Comm\n",
       "    // socket was opened in Python.\n",
       "    var element = $(\"#\" + id);\n",
       "    var ws_proxy = comm_websocket_adapter(comm)\n",
       "\n",
       "    function ondownload(figure, format) {\n",
       "        window.open(figure.imageObj.src);\n",
       "    }\n",
       "\n",
       "    var fig = new mpl.figure(id, ws_proxy,\n",
       "                           ondownload,\n",
       "                           element.get(0));\n",
       "\n",
       "    // Call onopen now - mpl needs it, as it is assuming we've passed it a real\n",
       "    // web socket which is closed, not our websocket->open comm proxy.\n",
       "    ws_proxy.onopen();\n",
       "\n",
       "    fig.parent_element = element.get(0);\n",
       "    fig.cell_info = mpl.find_output_cell(\"<div id='\" + id + \"'></div>\");\n",
       "    if (!fig.cell_info) {\n",
       "        console.error(\"Failed to find cell for figure\", id, fig);\n",
       "        return;\n",
       "    }\n",
       "\n",
       "    var output_index = fig.cell_info[2]\n",
       "    var cell = fig.cell_info[0];\n",
       "\n",
       "};\n",
       "\n",
       "mpl.figure.prototype.handle_close = function(fig, msg) {\n",
       "    var width = fig.canvas.width/mpl.ratio\n",
       "    fig.root.unbind('remove')\n",
       "\n",
       "    // Update the output cell to use the data from the current canvas.\n",
       "    fig.push_to_output();\n",
       "    var dataURL = fig.canvas.toDataURL();\n",
       "    // Re-enable the keyboard manager in IPython - without this line, in FF,\n",
       "    // the notebook keyboard shortcuts fail.\n",
       "    IPython.keyboard_manager.enable()\n",
       "    $(fig.parent_element).html('<img src=\"' + dataURL + '\" width=\"' + width + '\">');\n",
       "    fig.close_ws(fig, msg);\n",
       "}\n",
       "\n",
       "mpl.figure.prototype.close_ws = function(fig, msg){\n",
       "    fig.send_message('closing', msg);\n",
       "    // fig.ws.close()\n",
       "}\n",
       "\n",
       "mpl.figure.prototype.push_to_output = function(remove_interactive) {\n",
       "    // Turn the data on the canvas into data in the output cell.\n",
       "    var width = this.canvas.width/mpl.ratio\n",
       "    var dataURL = this.canvas.toDataURL();\n",
       "    this.cell_info[1]['text/html'] = '<img src=\"' + dataURL + '\" width=\"' + width + '\">';\n",
       "}\n",
       "\n",
       "mpl.figure.prototype.updated_canvas_event = function() {\n",
       "    // Tell IPython that the notebook contents must change.\n",
       "    IPython.notebook.set_dirty(true);\n",
       "    this.send_message(\"ack\", {});\n",
       "    var fig = this;\n",
       "    // Wait a second, then push the new image to the DOM so\n",
       "    // that it is saved nicely (might be nice to debounce this).\n",
       "    setTimeout(function () { fig.push_to_output() }, 1000);\n",
       "}\n",
       "\n",
       "mpl.figure.prototype._init_toolbar = function() {\n",
       "    var fig = this;\n",
       "\n",
       "    var nav_element = $('<div/>');\n",
       "    nav_element.attr('style', 'width: 100%');\n",
       "    this.root.append(nav_element);\n",
       "\n",
       "    // Define a callback function for later on.\n",
       "    function toolbar_event(event) {\n",
       "        return fig.toolbar_button_onclick(event['data']);\n",
       "    }\n",
       "    function toolbar_mouse_event(event) {\n",
       "        return fig.toolbar_button_onmouseover(event['data']);\n",
       "    }\n",
       "\n",
       "    for(var toolbar_ind in mpl.toolbar_items){\n",
       "        var name = mpl.toolbar_items[toolbar_ind][0];\n",
       "        var tooltip = mpl.toolbar_items[toolbar_ind][1];\n",
       "        var image = mpl.toolbar_items[toolbar_ind][2];\n",
       "        var method_name = mpl.toolbar_items[toolbar_ind][3];\n",
       "\n",
       "        if (!name) { continue; };\n",
       "\n",
       "        var button = $('<button class=\"btn btn-default\" href=\"#\" title=\"' + name + '\"><i class=\"fa ' + image + ' fa-lg\"></i></button>');\n",
       "        button.click(method_name, toolbar_event);\n",
       "        button.mouseover(tooltip, toolbar_mouse_event);\n",
       "        nav_element.append(button);\n",
       "    }\n",
       "\n",
       "    // Add the status bar.\n",
       "    var status_bar = $('<span class=\"mpl-message\" style=\"text-align:right; float: right;\"/>');\n",
       "    nav_element.append(status_bar);\n",
       "    this.message = status_bar[0];\n",
       "\n",
       "    // Add the close button to the window.\n",
       "    var buttongrp = $('<div class=\"btn-group inline pull-right\"></div>');\n",
       "    var button = $('<button class=\"btn btn-mini btn-primary\" href=\"#\" title=\"Stop Interaction\"><i class=\"fa fa-power-off icon-remove icon-large\"></i></button>');\n",
       "    button.click(function (evt) { fig.handle_close(fig, {}); } );\n",
       "    button.mouseover('Stop Interaction', toolbar_mouse_event);\n",
       "    buttongrp.append(button);\n",
       "    var titlebar = this.root.find($('.ui-dialog-titlebar'));\n",
       "    titlebar.prepend(buttongrp);\n",
       "}\n",
       "\n",
       "mpl.figure.prototype._root_extra_style = function(el){\n",
       "    var fig = this\n",
       "    el.on(\"remove\", function(){\n",
       "\tfig.close_ws(fig, {});\n",
       "    });\n",
       "}\n",
       "\n",
       "mpl.figure.prototype._canvas_extra_style = function(el){\n",
       "    // this is important to make the div 'focusable\n",
       "    el.attr('tabindex', 0)\n",
       "    // reach out to IPython and tell the keyboard manager to turn it's self\n",
       "    // off when our div gets focus\n",
       "\n",
       "    // location in version 3\n",
       "    if (IPython.notebook.keyboard_manager) {\n",
       "        IPython.notebook.keyboard_manager.register_events(el);\n",
       "    }\n",
       "    else {\n",
       "        // location in version 2\n",
       "        IPython.keyboard_manager.register_events(el);\n",
       "    }\n",
       "\n",
       "}\n",
       "\n",
       "mpl.figure.prototype._key_event_extra = function(event, name) {\n",
       "    var manager = IPython.notebook.keyboard_manager;\n",
       "    if (!manager)\n",
       "        manager = IPython.keyboard_manager;\n",
       "\n",
       "    // Check for shift+enter\n",
       "    if (event.shiftKey && event.which == 13) {\n",
       "        this.canvas_div.blur();\n",
       "        event.shiftKey = false;\n",
       "        // Send a \"J\" for go to next cell\n",
       "        event.which = 74;\n",
       "        event.keyCode = 74;\n",
       "        manager.command_mode();\n",
       "        manager.handle_keydown(event);\n",
       "    }\n",
       "}\n",
       "\n",
       "mpl.figure.prototype.handle_save = function(fig, msg) {\n",
       "    fig.ondownload(fig, null);\n",
       "}\n",
       "\n",
       "\n",
       "mpl.find_output_cell = function(html_output) {\n",
       "    // Return the cell and output element which can be found *uniquely* in the notebook.\n",
       "    // Note - this is a bit hacky, but it is done because the \"notebook_saving.Notebook\"\n",
       "    // IPython event is triggered only after the cells have been serialised, which for\n",
       "    // our purposes (turning an active figure into a static one), is too late.\n",
       "    var cells = IPython.notebook.get_cells();\n",
       "    var ncells = cells.length;\n",
       "    for (var i=0; i<ncells; i++) {\n",
       "        var cell = cells[i];\n",
       "        if (cell.cell_type === 'code'){\n",
       "            for (var j=0; j<cell.output_area.outputs.length; j++) {\n",
       "                var data = cell.output_area.outputs[j];\n",
       "                if (data.data) {\n",
       "                    // IPython >= 3 moved mimebundle to data attribute of output\n",
       "                    data = data.data;\n",
       "                }\n",
       "                if (data['text/html'] == html_output) {\n",
       "                    return [cell, data, j];\n",
       "                }\n",
       "            }\n",
       "        }\n",
       "    }\n",
       "}\n",
       "\n",
       "// Register the function which deals with the matplotlib target/channel.\n",
       "// The kernel may be null if the page has been refreshed.\n",
       "if (IPython.notebook.kernel != null) {\n",
       "    IPython.notebook.kernel.comm_manager.register_target('matplotlib', mpl.mpl_figure_comm);\n",
       "}\n"
      ],
      "text/plain": [
       "<IPython.core.display.Javascript object>"
      ]
     },
     "metadata": {},
     "output_type": "display_data"
    },
    {
     "data": {
      "text/html": [
       "<img src=\"data:image/png;base64,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\" width=\"640\">"
      ],
      "text/plain": [
       "<IPython.core.display.HTML object>"
      ]
     },
     "metadata": {},
     "output_type": "display_data"
    }
   ],
   "source": [
    "# ---- plot loss\n",
    "plt.figure()\n",
    "plt.plot(np.load('loss_20191022_2layer_100hiddenep13.npy', allow_pickle=True).tolist(), label='2 LSTM layers, 100 hidden units, 100 songs')\n",
    "plt.plot(np.load(f'loss_20191023_2layer_100hiddenep{200}.npy', allow_pickle=True).tolist(), label='2 LSTM layers, 100 hidden units, 10 songs')\n",
    "plt.plot(np.load(f'loss_20191022_1layer_200hiddenep{200}_3.npy', allow_pickle=True).tolist(), label='1 LSTM layer, 200 hidden units, 10 songs')\n",
    "plt.xlabel('Number of Songs')\n",
    "plt.ylabel('Cross Entropy Loss')\n",
    "plt.legend()\n",
    "plt.title('Traning Loss for Different Architectures')\n",
    "plt.show()\n"
   ]
  },
  {
   "cell_type": "code",
   "execution_count": 220,
   "metadata": {},
   "outputs": [],
   "source": [
    "# ---- help function for generating mew music and creating MIDI file\n",
    "def generate_from_random(unique_notes, seq_len=50):\n",
    "  generate = np.random.randint(0,unique_notes-1,seq_len).tolist()\n",
    "  return generate\n",
    "    \n",
    "def generate_from_one_note(note_tokenizer, new_notes='35'):\n",
    "  generate = [note_tokenizer.notes_to_index['e'] for i in range(49)]\n",
    "  generate += [note_tokenizer.notes_to_index[new_notes]]\n",
    "  return generate\n",
    "\n",
    "def generate_notes(generate, model, unique_notes, max_generated=1000, seq_len=50):\n",
    "  for i in tqdm_notebook(range(max_generated), desc='genrt'):\n",
    "    test_input = np.array([generate])[:,i:i+seq_len]\n",
    "    test_input = torch.tensor(test_input, dtype=torch.float32)\n",
    "    test_inputa = test_input[None,:,:]\n",
    "    \n",
    "    predicted_note, _, _ = model(test_inputa, use_softmax=False)\n",
    "    predicted_note = predicted_note.detach().numpy()\n",
    "#     predicted_note[predicted_note<0]=0\n",
    "    prednote=predicted_note/np.sum(predicted_note)\n",
    "    r = np.random.rand()\n",
    "    if r < 0.0:\n",
    "        random_note_pred = np.random.choice(unique_notes, 1, replace=False, p=prednote[0])\n",
    "        generate.append(random_note_pred[0])\n",
    "    else: \n",
    "        generate.append(prednote.argmax().item())\n",
    "  return generate\n",
    "\n",
    "\n",
    "def write_midi_file_from_generated(generate, midi_file_name = \"result.mid\", start_index=0, fs=8, max_generated=1000):\n",
    "    generate = np.array(generate)\n",
    "#     generate[generate<1] = 1\n",
    "    note_string = [note_tokenizer.index_to_notes[ind_note] for ind_note in generate]\n",
    "    array_piano_roll = np.zeros((128,max_generated+1), dtype=np.int16)\n",
    " \n",
    "    for index, note in enumerate(note_string[start_index:]):\n",
    "       if note == 'e':\n",
    "         pass\n",
    "       else:\n",
    "         splitted_note = note.split(',')\n",
    "         for j in splitted_note:\n",
    "           array_piano_roll[int(j),index] = 1\n",
    " \n",
    "    generate_to_midi = pp.piano_roll_to_pretty_midi(array_piano_roll, fs=fs)\n",
    "    print(\"Tempo {}\".format(generate_to_midi.estimate_tempo()))\n",
    "    for note in generate_to_midi.instruments[0].notes:\n",
    "        note.velocity = 75\n",
    "    generate_to_midi.write(midi_file_name)\n"
   ]
  },
  {
   "cell_type": "code",
   "execution_count": 226,
   "metadata": {},
   "outputs": [
    {
     "data": {
      "text/plain": [
       "<All keys matched successfully>"
      ]
     },
     "execution_count": 226,
     "metadata": {},
     "output_type": "execute_result"
    }
   ],
   "source": [
    "# ---- load saved model\n",
    "hn = torch.randn(num_layers*num_directions, batch_size, hidden_size,dtype=torch.float32)\n",
    "cn = torch.randn(num_layers*num_directions, batch_size, hidden_size,dtype=torch.float32)\n",
    "model = our_LSTM(hn,cn)\n",
    "\n",
    "model.load_state_dict(torch.load('lstm_20191023_2layer_100hidden_ep200'))"
   ]
  },
  {
   "cell_type": "code",
   "execution_count": 231,
   "metadata": {},
   "outputs": [
    {
     "name": "stdout",
     "output_type": "stream",
     "text": [
      "5756\n"
     ]
    },
    {
     "data": {
      "application/vnd.jupyter.widget-view+json": {
       "model_id": "8015b8a4d1984c6e9fdde0176ce10b3b",
       "version_major": 2,
       "version_minor": 0
      },
      "text/plain": [
       "HBox(children=(IntProgress(value=0, description='genrt', style=ProgressStyle(description_width='initial')), HT…"
      ]
     },
     "metadata": {},
     "output_type": "display_data"
    },
    {
     "name": "stdout",
     "output_type": "stream",
     "text": [
      "\n",
      "[5756, 5756, 5756, 5756, 5756, 5756, 5756, 5756, 5756, 5756, 5756, 5756, 5756, 5756, 5756, 5756, 5756, 5756, 5756, 5756, 5756, 5756, 5756, 5756, 5756, 5756, 5756, 5756, 5756, 5756, 5756, 5756, 5756, 5756, 5756, 5756, 5756, 5756, 5756, 5756, 5756, 5756, 5756, 5756, 5756, 5756, 5756, 5756, 5756, 3470, 5737, 5737, 2106, 5736, 4529, 2106, 5737, 5737, 5737, 5742, 5742, 5742, 5742, 5742, 5742, 5742, 4550, 5742, 5742, 2110, 2110, 5747, 2105, 5747, 4568, 4568, 4568, 4568, 4568, 4568, 4568, 4568, 5752, 5752, 5737, 5736, 5736, 5736, 5742, 5742, 5742, 5736, 5736, 5736, 4523, 4523, 4523, 2107, 2107, 2107, 4544, 4544, 4544, 5742, 2105, 2105, 5742, 5742, 5742, 5742, 2105, 5742, 4550, 4550, 1179, 5747, 5747, 1179, 5747, 2102, 2413, 2413, 2413, 2413, 2413, 2413, 2413, 2413, 2413, 4550, 1185, 1185, 1185, 1185, 1465, 5736, 4535, 4535, 4535, 4535, 4535, 5753, 5753, 5753, 5753, 5753, 2111, 4555, 4531, 4528]\n",
      "Tempo 150.00000000000009\n"
     ]
    }
   ],
   "source": [
    "# ---- generate new music\n",
    "one_note = True\n",
    "max_generate = 100\n",
    "input_len = 10\n",
    "unique_notes = note_tokenizer.unique_word\n",
    "print(unique_notes)\n",
    "seq_len=50\n",
    "if one_note:\n",
    "    generate = generate_from_one_note(note_tokenizer, '27')\n",
    "    filename = 'a_one_note.mid'\n",
    "else:\n",
    "    generate = generate_from_random(unique_notes-1, seq_len)\n",
    "    filename = 'a_random.mid'\n",
    "# print(generate)\n",
    "generate_song = generate_notes(generate, model, unique_notes, max_generate, seq_len)\n",
    "print(generate_song)\n",
    "write_midi_file_from_generated(generate_song, filename, start_index=seq_len-1, fs=5, max_generated = max_generate)"
   ]
  }
 ],
 "metadata": {
  "kernelspec": {
   "display_name": "Python 3",
   "language": "python",
   "name": "python3"
  },
  "language_info": {
   "codemirror_mode": {
    "name": "ipython",
    "version": 3
   },
   "file_extension": ".py",
   "mimetype": "text/x-python",
   "name": "python",
   "nbconvert_exporter": "python",
   "pygments_lexer": "ipython3",
   "version": "3.7.4"
  }
 },
 "nbformat": 4,
 "nbformat_minor": 2
}
